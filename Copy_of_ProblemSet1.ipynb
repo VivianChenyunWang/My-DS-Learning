{
  "nbformat": 4,
  "nbformat_minor": 0,
  "metadata": {
    "colab": {
      "provenance": []
    },
    "kernelspec": {
      "name": "python3",
      "display_name": "Python 3"
    },
    "language_info": {
      "name": "python"
    }
  },
  "cells": [
    {
      "cell_type": "markdown",
      "source": [
        "# Problem Set 1\n",
        "\n",
        "We will use the dataset containing songs that we used in Class 3."
      ],
      "metadata": {
        "id": "acoOGPI8b7SN"
      }
    },
    {
      "cell_type": "markdown",
      "source": [
        "### Importing the data\n",
        "Make sure that you upload the following file to your drive (or if you are solving the problem set on your laptop, download the file):\n",
        "\n",
        "https://drive.google.com/file/d/1-hv2yowSJ34DgDG_WdKpfW4hyVoApnZO/view?usp=drive_link\n",
        "\n",
        "This file contains songs from Spotify, the same set of songs we used in Class 3."
      ],
      "metadata": {
        "id": "j_DAxKpzcNnl"
      }
    },
    {
      "cell_type": "code",
      "source": [
        "import pandas as pd\n",
        "import spacy\n",
        "import re\n",
        "import nltk\n",
        "import ast\n",
        "import numpy as np"
      ],
      "metadata": {
        "id": "Wa0lJEwddNcu"
      },
      "execution_count": null,
      "outputs": []
    },
    {
      "cell_type": "code",
      "source": [
        "from google.colab import drive\n",
        "drive.mount('/content/drive')"
      ],
      "metadata": {
        "colab": {
          "base_uri": "https://localhost:8080/"
        },
        "id": "D-t_dePIcTzy",
        "outputId": "2f50c4d0-abb0-41fe-edc5-8337715b0f70"
      },
      "execution_count": null,
      "outputs": [
        {
          "output_type": "stream",
          "name": "stdout",
          "text": [
            "Mounted at /content/drive\n"
          ]
        }
      ]
    },
    {
      "cell_type": "code",
      "source": [
        "df = pd.read_csv('/content/drive/MyDrive/Songs_PS1.csv',\n",
        "                 converters={'tokens': lambda x: ast.literal_eval(x)}) #this function converts the strings in token to a list"
      ],
      "metadata": {
        "id": "nULCWCHYdJDy"
      },
      "execution_count": null,
      "outputs": []
    },
    {
      "cell_type": "markdown",
      "source": [
        "#### Question 1:\n",
        "1. Which columns are in this dataset? How many rows?"
      ],
      "metadata": {
        "id": "W9x6yrO7dlba"
      }
    },
    {
      "cell_type": "code",
      "source": [
        "print(list(df.columns)) #this indicates the columns\n",
        "print(df.shape[0]) #this show how many rows\n",
        "df.head(-10)"
      ],
      "metadata": {
        "id": "qMvjB88rqimC",
        "outputId": "e0767334-3d37-48d8-83c1-e6a1037cbb25",
        "colab": {
          "base_uri": "https://localhost:8080/",
          "height": 458
        }
      },
      "execution_count": null,
      "outputs": [
        {
          "output_type": "stream",
          "name": "stdout",
          "text": [
            "['artist', 'song', 'text', 'tokens']\n",
            "57650\n"
          ]
        },
        {
          "output_type": "execute_result",
          "data": {
            "text/plain": [
              "          artist                   song  \\\n",
              "0           ABBA  Ahe's My Kind Of Girl   \n",
              "1           ABBA       Andante, Andante   \n",
              "2           ABBA         As Good As New   \n",
              "3           ABBA                   Bang   \n",
              "4           ABBA       Bang-A-Boomerang   \n",
              "...          ...                    ...   \n",
              "57635  Zebrahead              Let Me Go   \n",
              "57636  Zebrahead     Livin' Libido Loco   \n",
              "57637  Zebrahead   Lobotomy For Dummies   \n",
              "57638  Zebrahead          Mental Health   \n",
              "57639  Zebrahead            The Real Me   \n",
              "\n",
              "                                                    text  \\\n",
              "0      Look at her face, it's a wonderful face  \\nAnd...   \n",
              "1      Take it easy with me, please  \\nTouch me gentl...   \n",
              "2      I'll never know why I had to go  \\nWhy I had t...   \n",
              "3      Making somebody happy is a question of give an...   \n",
              "4      Making somebody happy is a question of give an...   \n",
              "...                                                  ...   \n",
              "57635  Well some wear their feelings right on their s...   \n",
              "57636  Enrique played in a band  \\nDown at the sand  ...   \n",
              "57637  You can lie to me and say it's you I adore  \\n...   \n",
              "57638  Let's go  \\nThe lights are on but there is no ...   \n",
              "57639  I know a girl who welcomes the world  \\nI thin...   \n",
              "\n",
              "                                                  tokens  \n",
              "0      [look, at, her, face, ,, it, be, a, wonderful,...  \n",
              "1      [take, it, easy, with, i, ,, please, touch, i,...  \n",
              "2      [i, will, never, know, why, i, have, to, go, w...  \n",
              "3      [make, somebody, happy, be, a, question, of, g...  \n",
              "4      [make, somebody, happy, be, a, question, of, g...  \n",
              "...                                                  ...  \n",
              "57635  [well, some, wear, their, feeling, right, on, ...  \n",
              "57636  [enrique, play, in, a, band, down, at, the, sa...  \n",
              "57637  [you, can, lie, to, i, and, say, it, be, you, ...  \n",
              "57638  [let, us, go, the, light, be, on, but, there, ...  \n",
              "57639  [i, know, a, girl, who, welcome, the, world, i...  \n",
              "\n",
              "[57640 rows x 4 columns]"
            ],
            "text/html": [
              "\n",
              "  <div id=\"df-91f43427-7059-42fc-b68e-43cadd5e5b60\" class=\"colab-df-container\">\n",
              "    <div>\n",
              "<style scoped>\n",
              "    .dataframe tbody tr th:only-of-type {\n",
              "        vertical-align: middle;\n",
              "    }\n",
              "\n",
              "    .dataframe tbody tr th {\n",
              "        vertical-align: top;\n",
              "    }\n",
              "\n",
              "    .dataframe thead th {\n",
              "        text-align: right;\n",
              "    }\n",
              "</style>\n",
              "<table border=\"1\" class=\"dataframe\">\n",
              "  <thead>\n",
              "    <tr style=\"text-align: right;\">\n",
              "      <th></th>\n",
              "      <th>artist</th>\n",
              "      <th>song</th>\n",
              "      <th>text</th>\n",
              "      <th>tokens</th>\n",
              "    </tr>\n",
              "  </thead>\n",
              "  <tbody>\n",
              "    <tr>\n",
              "      <th>0</th>\n",
              "      <td>ABBA</td>\n",
              "      <td>Ahe's My Kind Of Girl</td>\n",
              "      <td>Look at her face, it's a wonderful face  \\nAnd...</td>\n",
              "      <td>[look, at, her, face, ,, it, be, a, wonderful,...</td>\n",
              "    </tr>\n",
              "    <tr>\n",
              "      <th>1</th>\n",
              "      <td>ABBA</td>\n",
              "      <td>Andante, Andante</td>\n",
              "      <td>Take it easy with me, please  \\nTouch me gentl...</td>\n",
              "      <td>[take, it, easy, with, i, ,, please, touch, i,...</td>\n",
              "    </tr>\n",
              "    <tr>\n",
              "      <th>2</th>\n",
              "      <td>ABBA</td>\n",
              "      <td>As Good As New</td>\n",
              "      <td>I'll never know why I had to go  \\nWhy I had t...</td>\n",
              "      <td>[i, will, never, know, why, i, have, to, go, w...</td>\n",
              "    </tr>\n",
              "    <tr>\n",
              "      <th>3</th>\n",
              "      <td>ABBA</td>\n",
              "      <td>Bang</td>\n",
              "      <td>Making somebody happy is a question of give an...</td>\n",
              "      <td>[make, somebody, happy, be, a, question, of, g...</td>\n",
              "    </tr>\n",
              "    <tr>\n",
              "      <th>4</th>\n",
              "      <td>ABBA</td>\n",
              "      <td>Bang-A-Boomerang</td>\n",
              "      <td>Making somebody happy is a question of give an...</td>\n",
              "      <td>[make, somebody, happy, be, a, question, of, g...</td>\n",
              "    </tr>\n",
              "    <tr>\n",
              "      <th>...</th>\n",
              "      <td>...</td>\n",
              "      <td>...</td>\n",
              "      <td>...</td>\n",
              "      <td>...</td>\n",
              "    </tr>\n",
              "    <tr>\n",
              "      <th>57635</th>\n",
              "      <td>Zebrahead</td>\n",
              "      <td>Let Me Go</td>\n",
              "      <td>Well some wear their feelings right on their s...</td>\n",
              "      <td>[well, some, wear, their, feeling, right, on, ...</td>\n",
              "    </tr>\n",
              "    <tr>\n",
              "      <th>57636</th>\n",
              "      <td>Zebrahead</td>\n",
              "      <td>Livin' Libido Loco</td>\n",
              "      <td>Enrique played in a band  \\nDown at the sand  ...</td>\n",
              "      <td>[enrique, play, in, a, band, down, at, the, sa...</td>\n",
              "    </tr>\n",
              "    <tr>\n",
              "      <th>57637</th>\n",
              "      <td>Zebrahead</td>\n",
              "      <td>Lobotomy For Dummies</td>\n",
              "      <td>You can lie to me and say it's you I adore  \\n...</td>\n",
              "      <td>[you, can, lie, to, i, and, say, it, be, you, ...</td>\n",
              "    </tr>\n",
              "    <tr>\n",
              "      <th>57638</th>\n",
              "      <td>Zebrahead</td>\n",
              "      <td>Mental Health</td>\n",
              "      <td>Let's go  \\nThe lights are on but there is no ...</td>\n",
              "      <td>[let, us, go, the, light, be, on, but, there, ...</td>\n",
              "    </tr>\n",
              "    <tr>\n",
              "      <th>57639</th>\n",
              "      <td>Zebrahead</td>\n",
              "      <td>The Real Me</td>\n",
              "      <td>I know a girl who welcomes the world  \\nI thin...</td>\n",
              "      <td>[i, know, a, girl, who, welcome, the, world, i...</td>\n",
              "    </tr>\n",
              "  </tbody>\n",
              "</table>\n",
              "<p>57640 rows × 4 columns</p>\n",
              "</div>\n",
              "    <div class=\"colab-df-buttons\">\n",
              "\n",
              "  <div class=\"colab-df-container\">\n",
              "    <button class=\"colab-df-convert\" onclick=\"convertToInteractive('df-91f43427-7059-42fc-b68e-43cadd5e5b60')\"\n",
              "            title=\"Convert this dataframe to an interactive table.\"\n",
              "            style=\"display:none;\">\n",
              "\n",
              "  <svg xmlns=\"http://www.w3.org/2000/svg\" height=\"24px\" viewBox=\"0 -960 960 960\">\n",
              "    <path d=\"M120-120v-720h720v720H120Zm60-500h600v-160H180v160Zm220 220h160v-160H400v160Zm0 220h160v-160H400v160ZM180-400h160v-160H180v160Zm440 0h160v-160H620v160ZM180-180h160v-160H180v160Zm440 0h160v-160H620v160Z\"/>\n",
              "  </svg>\n",
              "    </button>\n",
              "\n",
              "  <style>\n",
              "    .colab-df-container {\n",
              "      display:flex;\n",
              "      gap: 12px;\n",
              "    }\n",
              "\n",
              "    .colab-df-convert {\n",
              "      background-color: #E8F0FE;\n",
              "      border: none;\n",
              "      border-radius: 50%;\n",
              "      cursor: pointer;\n",
              "      display: none;\n",
              "      fill: #1967D2;\n",
              "      height: 32px;\n",
              "      padding: 0 0 0 0;\n",
              "      width: 32px;\n",
              "    }\n",
              "\n",
              "    .colab-df-convert:hover {\n",
              "      background-color: #E2EBFA;\n",
              "      box-shadow: 0px 1px 2px rgba(60, 64, 67, 0.3), 0px 1px 3px 1px rgba(60, 64, 67, 0.15);\n",
              "      fill: #174EA6;\n",
              "    }\n",
              "\n",
              "    .colab-df-buttons div {\n",
              "      margin-bottom: 4px;\n",
              "    }\n",
              "\n",
              "    [theme=dark] .colab-df-convert {\n",
              "      background-color: #3B4455;\n",
              "      fill: #D2E3FC;\n",
              "    }\n",
              "\n",
              "    [theme=dark] .colab-df-convert:hover {\n",
              "      background-color: #434B5C;\n",
              "      box-shadow: 0px 1px 3px 1px rgba(0, 0, 0, 0.15);\n",
              "      filter: drop-shadow(0px 1px 2px rgba(0, 0, 0, 0.3));\n",
              "      fill: #FFFFFF;\n",
              "    }\n",
              "  </style>\n",
              "\n",
              "    <script>\n",
              "      const buttonEl =\n",
              "        document.querySelector('#df-91f43427-7059-42fc-b68e-43cadd5e5b60 button.colab-df-convert');\n",
              "      buttonEl.style.display =\n",
              "        google.colab.kernel.accessAllowed ? 'block' : 'none';\n",
              "\n",
              "      async function convertToInteractive(key) {\n",
              "        const element = document.querySelector('#df-91f43427-7059-42fc-b68e-43cadd5e5b60');\n",
              "        const dataTable =\n",
              "          await google.colab.kernel.invokeFunction('convertToInteractive',\n",
              "                                                    [key], {});\n",
              "        if (!dataTable) return;\n",
              "\n",
              "        const docLinkHtml = 'Like what you see? Visit the ' +\n",
              "          '<a target=\"_blank\" href=https://colab.research.google.com/notebooks/data_table.ipynb>data table notebook</a>'\n",
              "          + ' to learn more about interactive tables.';\n",
              "        element.innerHTML = '';\n",
              "        dataTable['output_type'] = 'display_data';\n",
              "        await google.colab.output.renderOutput(dataTable, element);\n",
              "        const docLink = document.createElement('div');\n",
              "        docLink.innerHTML = docLinkHtml;\n",
              "        element.appendChild(docLink);\n",
              "      }\n",
              "    </script>\n",
              "  </div>\n",
              "\n",
              "\n",
              "<div id=\"df-c0b0e11e-d3b7-4b7a-a35a-857475350960\">\n",
              "  <button class=\"colab-df-quickchart\" onclick=\"quickchart('df-c0b0e11e-d3b7-4b7a-a35a-857475350960')\"\n",
              "            title=\"Suggest charts\"\n",
              "            style=\"display:none;\">\n",
              "\n",
              "<svg xmlns=\"http://www.w3.org/2000/svg\" height=\"24px\"viewBox=\"0 0 24 24\"\n",
              "     width=\"24px\">\n",
              "    <g>\n",
              "        <path d=\"M19 3H5c-1.1 0-2 .9-2 2v14c0 1.1.9 2 2 2h14c1.1 0 2-.9 2-2V5c0-1.1-.9-2-2-2zM9 17H7v-7h2v7zm4 0h-2V7h2v10zm4 0h-2v-4h2v4z\"/>\n",
              "    </g>\n",
              "</svg>\n",
              "  </button>\n",
              "\n",
              "<style>\n",
              "  .colab-df-quickchart {\n",
              "      --bg-color: #E8F0FE;\n",
              "      --fill-color: #1967D2;\n",
              "      --hover-bg-color: #E2EBFA;\n",
              "      --hover-fill-color: #174EA6;\n",
              "      --disabled-fill-color: #AAA;\n",
              "      --disabled-bg-color: #DDD;\n",
              "  }\n",
              "\n",
              "  [theme=dark] .colab-df-quickchart {\n",
              "      --bg-color: #3B4455;\n",
              "      --fill-color: #D2E3FC;\n",
              "      --hover-bg-color: #434B5C;\n",
              "      --hover-fill-color: #FFFFFF;\n",
              "      --disabled-bg-color: #3B4455;\n",
              "      --disabled-fill-color: #666;\n",
              "  }\n",
              "\n",
              "  .colab-df-quickchart {\n",
              "    background-color: var(--bg-color);\n",
              "    border: none;\n",
              "    border-radius: 50%;\n",
              "    cursor: pointer;\n",
              "    display: none;\n",
              "    fill: var(--fill-color);\n",
              "    height: 32px;\n",
              "    padding: 0;\n",
              "    width: 32px;\n",
              "  }\n",
              "\n",
              "  .colab-df-quickchart:hover {\n",
              "    background-color: var(--hover-bg-color);\n",
              "    box-shadow: 0 1px 2px rgba(60, 64, 67, 0.3), 0 1px 3px 1px rgba(60, 64, 67, 0.15);\n",
              "    fill: var(--button-hover-fill-color);\n",
              "  }\n",
              "\n",
              "  .colab-df-quickchart-complete:disabled,\n",
              "  .colab-df-quickchart-complete:disabled:hover {\n",
              "    background-color: var(--disabled-bg-color);\n",
              "    fill: var(--disabled-fill-color);\n",
              "    box-shadow: none;\n",
              "  }\n",
              "\n",
              "  .colab-df-spinner {\n",
              "    border: 2px solid var(--fill-color);\n",
              "    border-color: transparent;\n",
              "    border-bottom-color: var(--fill-color);\n",
              "    animation:\n",
              "      spin 1s steps(1) infinite;\n",
              "  }\n",
              "\n",
              "  @keyframes spin {\n",
              "    0% {\n",
              "      border-color: transparent;\n",
              "      border-bottom-color: var(--fill-color);\n",
              "      border-left-color: var(--fill-color);\n",
              "    }\n",
              "    20% {\n",
              "      border-color: transparent;\n",
              "      border-left-color: var(--fill-color);\n",
              "      border-top-color: var(--fill-color);\n",
              "    }\n",
              "    30% {\n",
              "      border-color: transparent;\n",
              "      border-left-color: var(--fill-color);\n",
              "      border-top-color: var(--fill-color);\n",
              "      border-right-color: var(--fill-color);\n",
              "    }\n",
              "    40% {\n",
              "      border-color: transparent;\n",
              "      border-right-color: var(--fill-color);\n",
              "      border-top-color: var(--fill-color);\n",
              "    }\n",
              "    60% {\n",
              "      border-color: transparent;\n",
              "      border-right-color: var(--fill-color);\n",
              "    }\n",
              "    80% {\n",
              "      border-color: transparent;\n",
              "      border-right-color: var(--fill-color);\n",
              "      border-bottom-color: var(--fill-color);\n",
              "    }\n",
              "    90% {\n",
              "      border-color: transparent;\n",
              "      border-bottom-color: var(--fill-color);\n",
              "    }\n",
              "  }\n",
              "</style>\n",
              "\n",
              "  <script>\n",
              "    async function quickchart(key) {\n",
              "      const quickchartButtonEl =\n",
              "        document.querySelector('#' + key + ' button');\n",
              "      quickchartButtonEl.disabled = true;  // To prevent multiple clicks.\n",
              "      quickchartButtonEl.classList.add('colab-df-spinner');\n",
              "      try {\n",
              "        const charts = await google.colab.kernel.invokeFunction(\n",
              "            'suggestCharts', [key], {});\n",
              "      } catch (error) {\n",
              "        console.error('Error during call to suggestCharts:', error);\n",
              "      }\n",
              "      quickchartButtonEl.classList.remove('colab-df-spinner');\n",
              "      quickchartButtonEl.classList.add('colab-df-quickchart-complete');\n",
              "    }\n",
              "    (() => {\n",
              "      let quickchartButtonEl =\n",
              "        document.querySelector('#df-c0b0e11e-d3b7-4b7a-a35a-857475350960 button');\n",
              "      quickchartButtonEl.style.display =\n",
              "        google.colab.kernel.accessAllowed ? 'block' : 'none';\n",
              "    })();\n",
              "  </script>\n",
              "</div>\n",
              "\n",
              "    </div>\n",
              "  </div>\n"
            ],
            "application/vnd.google.colaboratory.intrinsic+json": {
              "type": "dataframe",
              "variable_name": "df",
              "summary": "{\n  \"name\": \"df\",\n  \"rows\": 57650,\n  \"fields\": [\n    {\n      \"column\": \"artist\",\n      \"properties\": {\n        \"dtype\": \"category\",\n        \"num_unique_values\": 643,\n        \"samples\": [\n          \"Ziggy Marley\",\n          \"O.A.R.\",\n          \"Styx\"\n        ],\n        \"semantic_type\": \"\",\n        \"description\": \"\"\n      }\n    },\n    {\n      \"column\": \"song\",\n      \"properties\": {\n        \"dtype\": \"string\",\n        \"num_unique_values\": 44824,\n        \"samples\": [\n          \"Tear Me Down\",\n          \"Lakky Lady\",\n          \"They All Went To Mexico\"\n        ],\n        \"semantic_type\": \"\",\n        \"description\": \"\"\n      }\n    },\n    {\n      \"column\": \"text\",\n      \"properties\": {\n        \"dtype\": \"string\",\n        \"num_unique_values\": 57494,\n        \"samples\": [\n          \"When the grey skies turn to blue  \\nAnd the dark clouds blow away  \\nIn the morning of a new life  \\nWhen the sun comes shining through  \\nWhen the grey skies turn to blue  \\nIn the morning of a new life  \\nWhen the sun comes shining through  \\nWhen the grey skies turn to blue  \\nMeet me on a bright and windy day  \\nWhen the breeze has blown  \\nThe gray skies far away  \\nHigh upon a hillside  \\nWhen the sun comes shining through  \\nAnd the grey skies turn to blue  \\nWhen the grey skies turn to blue  \\nWhen the grey skies turn to blue  \\n\\n\",\n          \"I met a girl a wonderful girl  \\nWho's really got a lot to recommend her for a girl  \\nFabulous creature without any doubt  \\nHey what am I getting so excited about  \\nShe's just a girl an everyday girl  \\nAnd yet I guess she's really rather special for a girl  \\nFor once you've seen her the others are not  \\nHey what am I getting so excited about  \\nBut so what what has she got others have not  \\nTwo eyes two lips a nose all girls have some of those  \\nBut when she looks up at me what do I see  \\nThe most enchanting face my pulse begins to race  \\nHey I met a girl a marvelous girl  \\nShe rarer than uranium and fairer than a pearl  \\nFound me a treasure and I want to shout  \\nHey what am I getting so excited about  \\nBut so what what has she got others have not  \\nTwo eyes two lips a nose all girls have some of those  \\nBut when she looks up at me what do I see  \\nThe most enchanting face my pulse begins to race  \\n(I got a girl a marvelous girl)  \\n(She rarer than uranium and fairer than a pearl)  \\nFound me a treasure and I want to shout  \\nThis is what am I getting so excited about  \\n(He met a girl) and I fell in love today\\n\\n\",\n          \"She's over by the corner  \\nGot her hands by her sides  \\nThey hit her harder harder harder  \\nTill they thought she might die  \\n  \\nWell I got a foggy notion,  \\nDo it again  \\nOver by the corner,  \\nDo it again  \\nI got my calamine lotion baby,  \\nDo it again  \\nI got a foggy notion,  \\nDo it again  \\n  \\nShe made me do something  \\nThat I never did before  \\nI rushed right down  \\nTo a flower store  \\nI bought her a bundle  \\nA beautiful batch  \\nDon't you know something,  \\nShe sent 'em right back  \\n  \\nSally Mae, Sally Mae,  \\nSally Mae, Sally Mae  \\nSally Mae, Sally Mae,  \\nSally Mae, Sally Mae\\n\\n\"\n        ],\n        \"semantic_type\": \"\",\n        \"description\": \"\"\n      }\n    },\n    {\n      \"column\": \"tokens\",\n      \"properties\": {\n        \"dtype\": \"object\",\n        \"semantic_type\": \"\",\n        \"description\": \"\"\n      }\n    }\n  ]\n}"
            }
          },
          "metadata": {},
          "execution_count": 4
        }
      ]
    },
    {
      "cell_type": "markdown",
      "source": [
        "### Question 2:\n",
        "The column `tokens` was created using the following code:\n",
        "\n",
        "```\n",
        "nlp = spacy.load('en_core_web_sm', disable=['ner', 'parser'])\n",
        "\n",
        "def process_texts(texts):\n",
        "    cleaned_texts = (re.sub(r'\\s+', ' ', text).strip() for text in texts)\n",
        "    docs = nlp.pipe(cleaned_texts, n_process=-1)\n",
        "    return [[token.lemma_.lower() for token in doc] for doc in docs]\n",
        "\n",
        "# Process the entire dataframe\n",
        "df['tokens'] = process_texts(df['text'])\n",
        "```\n",
        "\n",
        "Part of the code is there to make the computation faster. Focus on the line:\n",
        "\n",
        "```\n",
        "return [[token.lemma_.lower() for token in doc] for doc in docs]\n",
        "```\n",
        "Can you explain in your own words what this line does?\n",
        "\n",
        "The documentation for spaCy could be useful to answer: https://spacy.io/usage/linguistic-features and https://spacy.io/api/doc"
      ],
      "metadata": {
        "id": "HWTXifnQeIQC"
      }
    },
    {
      "cell_type": "markdown",
      "source": [
        "This line processes each token in each doc to its stem word, and turns it to lowercase. (The doc is a list of the tokens, and docs is the dataframe of docs of tokens.) Then the line iterates this process for each doc in the docs, which is generated by nlp.pipe."
      ],
      "metadata": {
        "id": "N_eIYMNVqq6o"
      }
    },
    {
      "cell_type": "markdown",
      "source": [
        "### Question 3:\n",
        "\n",
        "Look at the tokens for the song titled *Andante, Andante* and compare them with the original text of the song. Why do we have `'i'` as the fifth token?"
      ],
      "metadata": {
        "id": "k5HARhjGkRyu"
      }
    },
    {
      "cell_type": "markdown",
      "source": [
        "Because the lemmatized word of \"me\" is \"I\", and then the lowercase is \"i\"."
      ],
      "metadata": {
        "id": "0LcQHyKKpRec"
      }
    },
    {
      "cell_type": "markdown",
      "source": [
        "## Identifying bigrams"
      ],
      "metadata": {
        "id": "trekwYQpXlIA"
      }
    },
    {
      "cell_type": "markdown",
      "source": [
        "### Question 4:\n",
        "Before we can proceed, we need to further simplify the text. Follow a similar approach to what we did in class. For example, you may want to remove characters that are not word characters, remove digits, and keep only strings with length greater than 1."
      ],
      "metadata": {
        "id": "irfFrxnyNmpH"
      }
    },
    {
      "cell_type": "code",
      "source": [
        "# Step 1: Remove non-word characters except spaces from each token\n",
        "df['tokens_simple'] = df['tokens'].apply(lambda x: [re.sub(r'[^\\w\\s]', '', i) for i in x])\n",
        "\n",
        "# Step 2: Remove digits and non-alphabetic characters from each token\n",
        "df['tokens_simple'] = df['tokens_simple'].apply(lambda x: [re.sub(r'\\d+', '', i) for i in x])\n",
        "df['tokens_simple'] = df['tokens_simple'].apply(lambda x: [re.sub(r'[^a-zA-Z]', '', i) for i in x])\n",
        "\n",
        "# Step 3: Remove strings of length 1 or 0\n",
        "df['tokens_simple'] = df['tokens_simple'].apply(lambda x: [i for i in x if len(i)>1])"
      ],
      "metadata": {
        "id": "X_ip8UHVNi3q"
      },
      "execution_count": null,
      "outputs": []
    },
    {
      "cell_type": "markdown",
      "source": [
        "### Question 5:\n",
        "Use the code seen in Class 3 to identify bigrams.\n",
        "Start by filtering bigrams with at least 5 occurrences, and print the 20 with the highest PMI score. Then move to filter with at least 50 occurrences, then with at least 500 occurrences.\n",
        "What do you notice?\n",
        "What changes with respect to the results we saw in class? How do you explain this difference?\n",
        "\n"
      ],
      "metadata": {
        "id": "a1WLcb3LJdwE"
      }
    },
    {
      "cell_type": "code",
      "source": [
        "text_tokens_all = [token for song in df['tokens_simple'] for token in song]\n",
        "\n",
        "bigram_measures = nltk.collocations.BigramAssocMeasures()\n",
        "finder = nltk.collocations.BigramCollocationFinder.from_words(text_tokens_all)\n",
        "finder.apply_freq_filter(4) #Filter, at leat 5 occurrences\n",
        "finder.nbest(bigram_measures.pmi, 20)"
      ],
      "metadata": {
        "id": "hOMjPXgNJh_g",
        "outputId": "dbfafb96-4715-4c39-f14c-3fba325e1a8e",
        "colab": {
          "base_uri": "https://localhost:8080/"
        }
      },
      "execution_count": null,
      "outputs": [
        {
          "output_type": "execute_result",
          "data": {
            "text/plain": [
              "[('baaaaarar', 'baaaaaarar'),\n",
              " ('bekymmer', 'suddar'),\n",
              " ('beng', 'deng'),\n",
              " ('courant', 'fugitif'),\n",
              " ('craise', 'finton'),\n",
              " ('dirsi', 'addio'),\n",
              " ('ingonyama', 'nengw'),\n",
              " ('inscru', 'tability'),\n",
              " ('kastiyong', 'buhangin'),\n",
              " ('kingman', 'barstow'),\n",
              " ('lilywhite', 'lilith'),\n",
              " ('locamente', 'enamorado'),\n",
              " ('meshugana', 'moils'),\n",
              " ('nakayang', 'ipadama'),\n",
              " ('nannimo', 'shinpai'),\n",
              " ('nengw', 'enamabala'),\n",
              " ('oingo', 'boingo'),\n",
              " ('ojig', 'neoegeman'),\n",
              " ('owain', 'glyndwr'),\n",
              " ('pactum', 'fraudi')]"
            ]
          },
          "metadata": {},
          "execution_count": 6
        }
      ]
    },
    {
      "cell_type": "code",
      "source": [
        "finder.apply_freq_filter(49) #Filter, at leat 50 occurrences\n",
        "finder.nbest(bigram_measures.pmi, 20)"
      ],
      "metadata": {
        "id": "d5Gb9hdax9ed",
        "outputId": "4fd5d6de-92cd-47f0-cd5c-f26c463617ab",
        "colab": {
          "base_uri": "https://localhost:8080/"
        }
      },
      "execution_count": null,
      "outputs": [
        {
          "output_type": "execute_result",
          "data": {
            "text/plain": [
              "[('bala', 'bala'),\n",
              " ('deja', 'vu'),\n",
              " ('helter', 'skelter'),\n",
              " ('diddit', 'diddit'),\n",
              " ('ly', 'ly'),\n",
              " ('baa', 'baa'),\n",
              " ('steve', 'millikan'),\n",
              " ('nicki', 'minaj'),\n",
              " ('los', 'angeles'),\n",
              " ('blah', 'blah'),\n",
              " ('scumbag', 'scumbag'),\n",
              " ('wim', 'weh'),\n",
              " ('bla', 'bla'),\n",
              " ('spa', 'baba'),\n",
              " ('pag', 'ibig'),\n",
              " ('barbar', 'ann'),\n",
              " ('dolly', 'parton'),\n",
              " ('wu', 'tang'),\n",
              " ('sen', 'sen'),\n",
              " ('voulez', 'vous')]"
            ]
          },
          "metadata": {},
          "execution_count": 7
        }
      ]
    },
    {
      "cell_type": "code",
      "source": [
        "finder.apply_freq_filter(499) #Filter, at leat 500 occurrences\n",
        "finder.nbest(bigram_measures.pmi, 20)"
      ],
      "metadata": {
        "id": "OlcJDBjnx-O4",
        "outputId": "3cae4f30-4844-45f0-8435-de8192786b3c",
        "colab": {
          "base_uri": "https://localhost:8080/"
        }
      },
      "execution_count": null,
      "outputs": [
        {
          "output_type": "execute_result",
          "data": {
            "text/plain": [
              "[('santa', 'claus'),\n",
              " ('nah', 'nah'),\n",
              " ('pum', 'pum'),\n",
              " ('oo', 'oo'),\n",
              " ('ba', 'ba'),\n",
              " ('doo', 'doo'),\n",
              " ('bye', 'bye'),\n",
              " ('ha', 'ha'),\n",
              " ('uh', 'huh'),\n",
              " ('da', 'da'),\n",
              " ('na', 'na'),\n",
              " ('new', 'york'),\n",
              " ('talkin', 'bout'),\n",
              " ('brand', 'new'),\n",
              " ('merry', 'christmas'),\n",
              " ('whoa', 'whoa'),\n",
              " ('uh', 'uh'),\n",
              " ('la', 'la'),\n",
              " ('ah', 'ah'),\n",
              " ('each', 'other')]"
            ]
          },
          "metadata": {},
          "execution_count": 8
        }
      ]
    },
    {
      "cell_type": "markdown",
      "source": [
        "The more occurances we filter, the more recognizable and meaningful in Enbglish the bigrams will become. Compared to what we saw in class, the occurance filter changes, and we are finding the top 20 PMI instead of top 10. We are seeing a lot from class the numbers, and foreign words relating to each other, which is also the case in the 5-occurance filter, because we didn't exclude the foreign songs and PMI are more sensitive to rare word pairs. In a 500-occurance filter compared to the 100-occurance, there are even more words with true meanings. Instead of the common practice in song writing, like \"gon na\"\"wan na\"\"got ta\", the 500-occurance shows \"santa claus\"\"brand new\"\"new york\"\"talkin bout\"\"merry christmens\"."
      ],
      "metadata": {
        "id": "oDOkO3S7Prlx"
      }
    },
    {
      "cell_type": "markdown",
      "source": [
        "## Document-feature matrix and Pointwise Mutual Information\n",
        "\n",
        "To see ane simple application in of this method you can look at [this comparison](https://www.pewresearch.org/decoded/2022/07/13/analyzing-text-for-distinctive-terms-using-pointwise-mutual-information/) between liberals and conservatives.\n",
        "\n",
        "### Question 6:\n",
        "Start by creating a new dataframe, call it df_filter, and select there the songs coming from only two artists that you want to compare."
      ],
      "metadata": {
        "id": "dDU9veiUkzMx"
      }
    },
    {
      "cell_type": "code",
      "source": [
        "df_filter = df[(df['artist'] == 'ABBA' ) | (df['artist'] == 'Avril Lavigne')]"
      ],
      "metadata": {
        "id": "Zbb4tOl9kuu3"
      },
      "execution_count": null,
      "outputs": []
    },
    {
      "cell_type": "markdown",
      "source": [
        "### Question 7:\n",
        "Create the document-feature matrix using df_filter, add options to filter frequency so that the features selected to build the matrix need to be in at least 0.5% of the documents, no more than 90% of the documents, and should be no more than 10000.\n"
      ],
      "metadata": {
        "id": "o_nQn5VCk-pW"
      }
    },
    {
      "cell_type": "code",
      "source": [
        "from sklearn.feature_extraction.text import CountVectorizer\n",
        "vectorizer = CountVectorizer(tokenizer=None,\n",
        "                             binary=True,\n",
        "                             min_df=0.005,  #minimum document frequency\n",
        "                             max_df=0.90, #maximum document frequency\n",
        "                             max_features=10000 #not more than 10000\n",
        "                             )\n",
        "\n",
        "X = vectorizer.fit_transform(df_filter['tokens_simple'].apply(lambda tokens: \" \".join(tokens)))"
      ],
      "metadata": {
        "id": "qwZSyVu8k9rz"
      },
      "execution_count": null,
      "outputs": []
    },
    {
      "cell_type": "markdown",
      "source": [
        "Now we want to calculate PMI scores to see which words are associated with each of the two artists. Complete the following code inserting the names of the artists you chose:"
      ],
      "metadata": {
        "id": "WmnJjWj-sZ-K"
      }
    },
    {
      "cell_type": "code",
      "source": [
        "# Convert categories to a binary format (for a single category in this example)\n",
        "a = np.where(df_filter['artist'] == 'ABBA', 1, 0)\n",
        "\n",
        "# Calculate PMI for each feature with the category\n",
        "n_docs = len(df_filter)\n",
        "p_a = np.sum(a) / n_docs\n",
        "pmi_scores = []\n",
        "\n",
        "for i, token in enumerate(vectorizer.get_feature_names_out()):\n",
        "    p_x = np.sum(X[:, i]) / n_docs #Probability of token\n",
        "    p_xa = np.sum(X[a == 1, i]) / n_docs  # Probability of token and artist\n",
        "    if p_x * p_a > 0 and p_xa > 0:\n",
        "        pmi = np.log2((p_xa / (p_x * p_a)))  # Added a small value to prevent log(0)\n",
        "\n",
        "        pmi_scores.append((token, pmi))\n",
        "\n",
        "# Sort tokens by PMI scores\n",
        "pmi_scores.sort(key=lambda x: x[1], reverse=True)\n",
        "\n",
        "# Print PMI scores\n",
        "for token, pmi in pmi_scores[0:30]:\n",
        "    print(f\"{token}: {pmi}\")"
      ],
      "metadata": {
        "id": "x40Ci5rWlpO1",
        "outputId": "2547baa6-e97e-4f21-e920-82250c09f9c7",
        "colab": {
          "base_uri": "https://localhost:8080/"
        }
      },
      "execution_count": null,
      "outputs": [
        {
          "output_type": "stream",
          "name": "stdout",
          "text": [
            "action: 1.1798210375848124\n",
            "ad: 1.1798210375848124\n",
            "afar: 1.1798210375848124\n",
            "affair: 1.1798210375848124\n",
            "agnetha: 1.1798210375848124\n",
            "agree: 1.1798210375848124\n",
            "aha: 1.1798210375848124\n",
            "ai: 1.1798210375848124\n",
            "alice: 1.1798210375848124\n",
            "alley: 1.1798210375848124\n",
            "almost: 1.1798210375848124\n",
            "among: 1.1798210375848124\n",
            "angry: 1.1798210375848124\n",
            "arrive: 1.1798210375848124\n",
            "autumn: 1.1798210375848124\n",
            "await: 1.1798210375848124\n",
            "ball: 1.1798210375848124\n",
            "bang: 1.1798210375848124\n",
            "bank: 1.1798210375848124\n",
            "beast: 1.1798210375848124\n",
            "bet: 1.1798210375848124\n",
            "bill: 1.1798210375848124\n",
            "bird: 1.1798210375848124\n",
            "bitter: 1.1798210375848124\n",
            "book: 1.1798210375848124\n",
            "boomerang: 1.1798210375848124\n",
            "breakfast: 1.1798210375848124\n",
            "bus: 1.1798210375848124\n",
            "buses: 1.1798210375848124\n",
            "business: 1.1798210375848124\n"
          ]
        }
      ]
    },
    {
      "cell_type": "code",
      "source": [
        "# Convert categories to a binary format (for a single category in this example)\n",
        "a = np.where(df_filter['artist'] == 'Avril Lavigne', 1, 0)\n",
        "\n",
        "# Calculate PMI for each feature with the category\n",
        "n_docs = len(df_filter)\n",
        "p_a = np.sum(a) / n_docs\n",
        "pmi_scores = []\n",
        "\n",
        "for i, token in enumerate(vectorizer.get_feature_names_out()):\n",
        "    p_x = np.sum(X[:, i]) / n_docs #Probability of token\n",
        "    p_xa = np.sum(X[a == 1, i]) / n_docs  # Probability of token and artist\n",
        "    if p_x * p_a > 0 and p_xa > 0:\n",
        "        pmi = np.log2((p_xa / (p_x * p_a)))  # Added a small value to prevent log(0)\n",
        "\n",
        "        pmi_scores.append((token, pmi))\n",
        "\n",
        "# Sort tokens by PMI scores\n",
        "pmi_scores.sort(key=lambda x: x[1], reverse=True)\n",
        "\n",
        "# Print PMI scores\n",
        "for token, pmi in pmi_scores[0:30]:\n",
        "    print(f\"{token}: {pmi}\")"
      ],
      "metadata": {
        "id": "2ptSsk2mlyTl",
        "outputId": "bde0a347-8cc5-4c89-ae17-25bb7b4aae20",
        "colab": {
          "base_uri": "https://localhost:8080/"
        }
      },
      "execution_count": null,
      "outputs": [
        {
          "output_type": "stream",
          "name": "stdout",
          "text": [
            "actually: 0.8401286632216106\n",
            "against: 0.8401286632216106\n",
            "already: 0.8401286632216106\n",
            "american: 0.8401286632216106\n",
            "argue: 0.8401286632216106\n",
            "askin: 0.8401286632216106\n",
            "asleep: 0.8401286632216106\n",
            "ass: 0.8401286632216106\n",
            "attention: 0.8401286632216106\n",
            "avril: 0.8401286632216106\n",
            "aware: 0.8401286632216106\n",
            "bail: 0.8401286632216106\n",
            "bedroom: 0.8401286632216106\n",
            "behavior: 0.8401286632216106\n",
            "below: 0.8401286632216106\n",
            "blast: 0.8401286632216106\n",
            "bleed: 0.8401286632216106\n",
            "bored: 0.8401286632216106\n",
            "boring: 0.8401286632216106\n",
            "bottle: 0.8401286632216106\n",
            "bottom: 0.8401286632216106\n",
            "boyfriend: 0.8401286632216106\n",
            "brag: 0.8401286632216106\n",
            "brand: 0.8401286632216106\n",
            "breathing: 0.8401286632216106\n",
            "brown: 0.8401286632216106\n",
            "carefully: 0.8401286632216106\n",
            "cell: 0.8401286632216106\n",
            "choir: 0.8401286632216106\n",
            "choke: 0.8401286632216106\n"
          ]
        }
      ]
    },
    {
      "cell_type": "markdown",
      "source": [
        "### Question 8:\n",
        "Explain the method above and the results.\n",
        "\n",
        "Can you think of another similar approach that would not need to filter for the two artists you chose?"
      ],
      "metadata": {
        "id": "keAvqnKzsoZd"
      }
    },
    {
      "cell_type": "markdown",
      "source": [
        "This method first chose the rows where the artist was one that I picked, and transformed their simplified tokens into vectors, which was binary. Then it calculated PMI by the probability of a song being by the artist and the probability of the token appearing. Finally it printed out the top 30 tokens with the highest PMI.\n",
        "\n",
        "\n",
        "It was the similar case to the other artist.\n",
        "\n",
        "\n",
        "The results were quite meaningless because each token printed in the top 30 had the same PMI and they seemed like random words in alphabetical order.\n",
        "\n",
        "\n",
        "The alternative way to do this without filtering out the two artists is to calculate PMI for each artist (by using a loop, or a lambda x as we did in class) and their token, and store them in a dictionary, with the artist being the key. Therefore, it is possible to find out the top 30 PMI token for each artist."
      ],
      "metadata": {
        "id": "raTfZMvjVE78"
      }
    },
    {
      "cell_type": "markdown",
      "source": [
        "### Dictionary Methods: the use of pronouns\n",
        "In this excercise we will try to see whether artists differ in their use of pronouns. We will use dictionaries provided by [Harvard-IV-4](https://inquirer.sites.fas.harvard.edu/homecat.htm), which distinguish between pronouns referring to the _singular self_ and pronouns referring to the _inclusive self_."
      ],
      "metadata": {
        "id": "zmUz28-ImP0-"
      }
    },
    {
      "cell_type": "code",
      "source": [
        "singular_self=['i', \"i'm\", 'me', 'mine', 'my', 'myself', 'oneself']\n",
        "inclusive_self=[\"let's\", 'our', 'ours', 'ourselves', 'us', 'we']"
      ],
      "metadata": {
        "id": "oHpSEP0pmPGp"
      },
      "execution_count": null,
      "outputs": []
    },
    {
      "cell_type": "markdown",
      "source": [
        "To correctly identify pronouns, the best approach would be to use part of speech taggers as the one provided by spaCy and briefly shown in class. Here we will try a simpler and less precise approach.\n",
        "\n",
        "### Question 9:\n",
        "1. Use again the 'text' column of the dataset. The token are not usable here as we are focusing on words that we discarded.\n",
        "2. Create a function to split into words, force lowercase and remove digits.\n",
        "3. Apply this function to the dataset."
      ],
      "metadata": {
        "id": "Ucs79aU-mTtA"
      }
    },
    {
      "cell_type": "code",
      "source": [
        "def simple_clean(text):\n",
        "    # Split text into words, force lowercase, and remove digits\n",
        "    text = re.sub(r'[^\\w\\s]', '', text)  # removes punctuation\n",
        "    text = re.sub(r'\\d+', '', text).lower()  # Remove digits and lowercase\n",
        "    words = text.split()  # Split into words\n",
        "    return words"
      ],
      "metadata": {
        "id": "3ItcB9FupidS"
      },
      "execution_count": null,
      "outputs": []
    },
    {
      "cell_type": "code",
      "source": [
        "df['words'] = df['text'].apply(simple_clean)# Apply the function to the 'text' column"
      ],
      "metadata": {
        "id": "aFcod5QxmaBl"
      },
      "execution_count": null,
      "outputs": []
    },
    {
      "cell_type": "code",
      "source": [
        "print(df.loc[0,'words'])"
      ],
      "metadata": {
        "id": "-vybfC00mcDO",
        "colab": {
          "base_uri": "https://localhost:8080/"
        },
        "outputId": "137ee9ee-c0d2-4f12-f85c-521230cc1576"
      },
      "execution_count": null,
      "outputs": [
        {
          "output_type": "stream",
          "name": "stdout",
          "text": [
            "['look', 'at', 'her', 'face', 'its', 'a', 'wonderful', 'face', 'and', 'it', 'means', 'something', 'special', 'to', 'me', 'look', 'at', 'the', 'way', 'that', 'she', 'smiles', 'when', 'she', 'sees', 'me', 'how', 'lucky', 'can', 'one', 'fellow', 'be', 'shes', 'just', 'my', 'kind', 'of', 'girl', 'she', 'makes', 'me', 'feel', 'fine', 'who', 'could', 'ever', 'believe', 'that', 'she', 'could', 'be', 'mine', 'shes', 'just', 'my', 'kind', 'of', 'girl', 'without', 'her', 'im', 'blue', 'and', 'if', 'she', 'ever', 'leaves', 'me', 'what', 'could', 'i', 'do', 'what', 'could', 'i', 'do', 'and', 'when', 'we', 'go', 'for', 'a', 'walk', 'in', 'the', 'park', 'and', 'she', 'holds', 'me', 'and', 'squeezes', 'my', 'hand', 'well', 'go', 'on', 'walking', 'for', 'hours', 'and', 'talking', 'about', 'all', 'the', 'things', 'that', 'we', 'plan', 'shes', 'just', 'my', 'kind', 'of', 'girl', 'she', 'makes', 'me', 'feel', 'fine', 'who', 'could', 'ever', 'believe', 'that', 'she', 'could', 'be', 'mine', 'shes', 'just', 'my', 'kind', 'of', 'girl', 'without', 'her', 'im', 'blue', 'and', 'if', 'she', 'ever', 'leaves', 'me', 'what', 'could', 'i', 'do', 'what', 'could', 'i', 'do']\n"
          ]
        }
      ]
    },
    {
      "cell_type": "markdown",
      "source": [
        "### Question 10:\n",
        "Calculate the frequency of the words in the two dictionaries above, divide by the total number of words of each artist."
      ],
      "metadata": {
        "id": "Vj7WEiaLnb9J"
      }
    },
    {
      "cell_type": "code",
      "source": [
        "from collections import Counter\n",
        "\n",
        "#Create a column that contains the counters\n",
        "df['counters'] = df['words'].apply(Counter)\n",
        "\n",
        "#Calculate the sum of words in singular_self\n",
        "df['singular'] = df['counters'].apply(lambda token_counts: sum(token_counts[word] for word in singular_self if word in token_counts))\n",
        "\n",
        "#Calculate the sum of words in inclusive_self\n",
        "df['inclusive'] = df['counters'].apply(lambda token_counts: sum(token_counts[word] for word in inclusive_self if word in token_counts))\n",
        "\n",
        "#Calculate total number of words\n",
        "df['total'] = df['counters'].apply(lambda token_counts: sum(token_counts.values()))"
      ],
      "metadata": {
        "id": "34GFqR3pmgNM"
      },
      "execution_count": null,
      "outputs": []
    },
    {
      "cell_type": "code",
      "source": [
        "artists = df[['artist', 'singular', 'inclusive', 'total']].groupby('artist').sum()"
      ],
      "metadata": {
        "id": "IBgQ1Fwemik-"
      },
      "execution_count": null,
      "outputs": []
    },
    {
      "cell_type": "code",
      "source": [
        "artists['frequency_singular']=artists['singular']/artists['total']\n",
        "artists['frequency_inclusive']=artists['inclusive']/artists['total']\n",
        "artists['frequency_singular'].head(10)\n",
        "#df[['counters', 'singular']].head()\n",
        "df[['counters', 'inclusive']].head()"
      ],
      "metadata": {
        "id": "D46iTJ1vmjo9",
        "colab": {
          "base_uri": "https://localhost:8080/",
          "height": 206
        },
        "outputId": "bbe6703b-edad-44d1-97e5-a332bc4662b8"
      },
      "execution_count": null,
      "outputs": [
        {
          "output_type": "execute_result",
          "data": {
            "text/plain": [
              "                                            counters  inclusive\n",
              "0  {'look': 2, 'at': 2, 'her': 3, 'face': 2, 'its...          2\n",
              "1  {'take': 2, 'it': 2, 'easy': 1, 'with': 2, 'me...          0\n",
              "2  {'ill': 1, 'never': 3, 'know': 2, 'why': 2, 'i...          4\n",
              "3  {'making': 1, 'somebody': 1, 'happy': 1, 'is':...          0\n",
              "4  {'making': 1, 'somebody': 1, 'happy': 1, 'is':...          0"
            ],
            "text/html": [
              "\n",
              "  <div id=\"df-ac2996cc-d9a4-4c14-a26b-60fea0d7c391\" class=\"colab-df-container\">\n",
              "    <div>\n",
              "<style scoped>\n",
              "    .dataframe tbody tr th:only-of-type {\n",
              "        vertical-align: middle;\n",
              "    }\n",
              "\n",
              "    .dataframe tbody tr th {\n",
              "        vertical-align: top;\n",
              "    }\n",
              "\n",
              "    .dataframe thead th {\n",
              "        text-align: right;\n",
              "    }\n",
              "</style>\n",
              "<table border=\"1\" class=\"dataframe\">\n",
              "  <thead>\n",
              "    <tr style=\"text-align: right;\">\n",
              "      <th></th>\n",
              "      <th>counters</th>\n",
              "      <th>inclusive</th>\n",
              "    </tr>\n",
              "  </thead>\n",
              "  <tbody>\n",
              "    <tr>\n",
              "      <th>0</th>\n",
              "      <td>{'look': 2, 'at': 2, 'her': 3, 'face': 2, 'its...</td>\n",
              "      <td>2</td>\n",
              "    </tr>\n",
              "    <tr>\n",
              "      <th>1</th>\n",
              "      <td>{'take': 2, 'it': 2, 'easy': 1, 'with': 2, 'me...</td>\n",
              "      <td>0</td>\n",
              "    </tr>\n",
              "    <tr>\n",
              "      <th>2</th>\n",
              "      <td>{'ill': 1, 'never': 3, 'know': 2, 'why': 2, 'i...</td>\n",
              "      <td>4</td>\n",
              "    </tr>\n",
              "    <tr>\n",
              "      <th>3</th>\n",
              "      <td>{'making': 1, 'somebody': 1, 'happy': 1, 'is':...</td>\n",
              "      <td>0</td>\n",
              "    </tr>\n",
              "    <tr>\n",
              "      <th>4</th>\n",
              "      <td>{'making': 1, 'somebody': 1, 'happy': 1, 'is':...</td>\n",
              "      <td>0</td>\n",
              "    </tr>\n",
              "  </tbody>\n",
              "</table>\n",
              "</div>\n",
              "    <div class=\"colab-df-buttons\">\n",
              "\n",
              "  <div class=\"colab-df-container\">\n",
              "    <button class=\"colab-df-convert\" onclick=\"convertToInteractive('df-ac2996cc-d9a4-4c14-a26b-60fea0d7c391')\"\n",
              "            title=\"Convert this dataframe to an interactive table.\"\n",
              "            style=\"display:none;\">\n",
              "\n",
              "  <svg xmlns=\"http://www.w3.org/2000/svg\" height=\"24px\" viewBox=\"0 -960 960 960\">\n",
              "    <path d=\"M120-120v-720h720v720H120Zm60-500h600v-160H180v160Zm220 220h160v-160H400v160Zm0 220h160v-160H400v160ZM180-400h160v-160H180v160Zm440 0h160v-160H620v160ZM180-180h160v-160H180v160Zm440 0h160v-160H620v160Z\"/>\n",
              "  </svg>\n",
              "    </button>\n",
              "\n",
              "  <style>\n",
              "    .colab-df-container {\n",
              "      display:flex;\n",
              "      gap: 12px;\n",
              "    }\n",
              "\n",
              "    .colab-df-convert {\n",
              "      background-color: #E8F0FE;\n",
              "      border: none;\n",
              "      border-radius: 50%;\n",
              "      cursor: pointer;\n",
              "      display: none;\n",
              "      fill: #1967D2;\n",
              "      height: 32px;\n",
              "      padding: 0 0 0 0;\n",
              "      width: 32px;\n",
              "    }\n",
              "\n",
              "    .colab-df-convert:hover {\n",
              "      background-color: #E2EBFA;\n",
              "      box-shadow: 0px 1px 2px rgba(60, 64, 67, 0.3), 0px 1px 3px 1px rgba(60, 64, 67, 0.15);\n",
              "      fill: #174EA6;\n",
              "    }\n",
              "\n",
              "    .colab-df-buttons div {\n",
              "      margin-bottom: 4px;\n",
              "    }\n",
              "\n",
              "    [theme=dark] .colab-df-convert {\n",
              "      background-color: #3B4455;\n",
              "      fill: #D2E3FC;\n",
              "    }\n",
              "\n",
              "    [theme=dark] .colab-df-convert:hover {\n",
              "      background-color: #434B5C;\n",
              "      box-shadow: 0px 1px 3px 1px rgba(0, 0, 0, 0.15);\n",
              "      filter: drop-shadow(0px 1px 2px rgba(0, 0, 0, 0.3));\n",
              "      fill: #FFFFFF;\n",
              "    }\n",
              "  </style>\n",
              "\n",
              "    <script>\n",
              "      const buttonEl =\n",
              "        document.querySelector('#df-ac2996cc-d9a4-4c14-a26b-60fea0d7c391 button.colab-df-convert');\n",
              "      buttonEl.style.display =\n",
              "        google.colab.kernel.accessAllowed ? 'block' : 'none';\n",
              "\n",
              "      async function convertToInteractive(key) {\n",
              "        const element = document.querySelector('#df-ac2996cc-d9a4-4c14-a26b-60fea0d7c391');\n",
              "        const dataTable =\n",
              "          await google.colab.kernel.invokeFunction('convertToInteractive',\n",
              "                                                    [key], {});\n",
              "        if (!dataTable) return;\n",
              "\n",
              "        const docLinkHtml = 'Like what you see? Visit the ' +\n",
              "          '<a target=\"_blank\" href=https://colab.research.google.com/notebooks/data_table.ipynb>data table notebook</a>'\n",
              "          + ' to learn more about interactive tables.';\n",
              "        element.innerHTML = '';\n",
              "        dataTable['output_type'] = 'display_data';\n",
              "        await google.colab.output.renderOutput(dataTable, element);\n",
              "        const docLink = document.createElement('div');\n",
              "        docLink.innerHTML = docLinkHtml;\n",
              "        element.appendChild(docLink);\n",
              "      }\n",
              "    </script>\n",
              "  </div>\n",
              "\n",
              "\n",
              "<div id=\"df-0fbdcb04-7912-410f-8c21-843eef6d96f6\">\n",
              "  <button class=\"colab-df-quickchart\" onclick=\"quickchart('df-0fbdcb04-7912-410f-8c21-843eef6d96f6')\"\n",
              "            title=\"Suggest charts\"\n",
              "            style=\"display:none;\">\n",
              "\n",
              "<svg xmlns=\"http://www.w3.org/2000/svg\" height=\"24px\"viewBox=\"0 0 24 24\"\n",
              "     width=\"24px\">\n",
              "    <g>\n",
              "        <path d=\"M19 3H5c-1.1 0-2 .9-2 2v14c0 1.1.9 2 2 2h14c1.1 0 2-.9 2-2V5c0-1.1-.9-2-2-2zM9 17H7v-7h2v7zm4 0h-2V7h2v10zm4 0h-2v-4h2v4z\"/>\n",
              "    </g>\n",
              "</svg>\n",
              "  </button>\n",
              "\n",
              "<style>\n",
              "  .colab-df-quickchart {\n",
              "      --bg-color: #E8F0FE;\n",
              "      --fill-color: #1967D2;\n",
              "      --hover-bg-color: #E2EBFA;\n",
              "      --hover-fill-color: #174EA6;\n",
              "      --disabled-fill-color: #AAA;\n",
              "      --disabled-bg-color: #DDD;\n",
              "  }\n",
              "\n",
              "  [theme=dark] .colab-df-quickchart {\n",
              "      --bg-color: #3B4455;\n",
              "      --fill-color: #D2E3FC;\n",
              "      --hover-bg-color: #434B5C;\n",
              "      --hover-fill-color: #FFFFFF;\n",
              "      --disabled-bg-color: #3B4455;\n",
              "      --disabled-fill-color: #666;\n",
              "  }\n",
              "\n",
              "  .colab-df-quickchart {\n",
              "    background-color: var(--bg-color);\n",
              "    border: none;\n",
              "    border-radius: 50%;\n",
              "    cursor: pointer;\n",
              "    display: none;\n",
              "    fill: var(--fill-color);\n",
              "    height: 32px;\n",
              "    padding: 0;\n",
              "    width: 32px;\n",
              "  }\n",
              "\n",
              "  .colab-df-quickchart:hover {\n",
              "    background-color: var(--hover-bg-color);\n",
              "    box-shadow: 0 1px 2px rgba(60, 64, 67, 0.3), 0 1px 3px 1px rgba(60, 64, 67, 0.15);\n",
              "    fill: var(--button-hover-fill-color);\n",
              "  }\n",
              "\n",
              "  .colab-df-quickchart-complete:disabled,\n",
              "  .colab-df-quickchart-complete:disabled:hover {\n",
              "    background-color: var(--disabled-bg-color);\n",
              "    fill: var(--disabled-fill-color);\n",
              "    box-shadow: none;\n",
              "  }\n",
              "\n",
              "  .colab-df-spinner {\n",
              "    border: 2px solid var(--fill-color);\n",
              "    border-color: transparent;\n",
              "    border-bottom-color: var(--fill-color);\n",
              "    animation:\n",
              "      spin 1s steps(1) infinite;\n",
              "  }\n",
              "\n",
              "  @keyframes spin {\n",
              "    0% {\n",
              "      border-color: transparent;\n",
              "      border-bottom-color: var(--fill-color);\n",
              "      border-left-color: var(--fill-color);\n",
              "    }\n",
              "    20% {\n",
              "      border-color: transparent;\n",
              "      border-left-color: var(--fill-color);\n",
              "      border-top-color: var(--fill-color);\n",
              "    }\n",
              "    30% {\n",
              "      border-color: transparent;\n",
              "      border-left-color: var(--fill-color);\n",
              "      border-top-color: var(--fill-color);\n",
              "      border-right-color: var(--fill-color);\n",
              "    }\n",
              "    40% {\n",
              "      border-color: transparent;\n",
              "      border-right-color: var(--fill-color);\n",
              "      border-top-color: var(--fill-color);\n",
              "    }\n",
              "    60% {\n",
              "      border-color: transparent;\n",
              "      border-right-color: var(--fill-color);\n",
              "    }\n",
              "    80% {\n",
              "      border-color: transparent;\n",
              "      border-right-color: var(--fill-color);\n",
              "      border-bottom-color: var(--fill-color);\n",
              "    }\n",
              "    90% {\n",
              "      border-color: transparent;\n",
              "      border-bottom-color: var(--fill-color);\n",
              "    }\n",
              "  }\n",
              "</style>\n",
              "\n",
              "  <script>\n",
              "    async function quickchart(key) {\n",
              "      const quickchartButtonEl =\n",
              "        document.querySelector('#' + key + ' button');\n",
              "      quickchartButtonEl.disabled = true;  // To prevent multiple clicks.\n",
              "      quickchartButtonEl.classList.add('colab-df-spinner');\n",
              "      try {\n",
              "        const charts = await google.colab.kernel.invokeFunction(\n",
              "            'suggestCharts', [key], {});\n",
              "      } catch (error) {\n",
              "        console.error('Error during call to suggestCharts:', error);\n",
              "      }\n",
              "      quickchartButtonEl.classList.remove('colab-df-spinner');\n",
              "      quickchartButtonEl.classList.add('colab-df-quickchart-complete');\n",
              "    }\n",
              "    (() => {\n",
              "      let quickchartButtonEl =\n",
              "        document.querySelector('#df-0fbdcb04-7912-410f-8c21-843eef6d96f6 button');\n",
              "      quickchartButtonEl.style.display =\n",
              "        google.colab.kernel.accessAllowed ? 'block' : 'none';\n",
              "    })();\n",
              "  </script>\n",
              "</div>\n",
              "\n",
              "    </div>\n",
              "  </div>\n"
            ],
            "application/vnd.google.colaboratory.intrinsic+json": {
              "type": "dataframe",
              "summary": "{\n  \"name\": \"df[['counters', 'inclusive']]\",\n  \"rows\": 5,\n  \"fields\": [\n    {\n      \"column\": \"counters\",\n      \"properties\": {\n        \"dtype\": \"object\",\n        \"semantic_type\": \"\",\n        \"description\": \"\"\n      }\n    },\n    {\n      \"column\": \"inclusive\",\n      \"properties\": {\n        \"dtype\": \"number\",\n        \"std\": 1,\n        \"min\": 0,\n        \"max\": 4,\n        \"num_unique_values\": 3,\n        \"samples\": [\n          2,\n          0,\n          4\n        ],\n        \"semantic_type\": \"\",\n        \"description\": \"\"\n      }\n    }\n  ]\n}"
            }
          },
          "metadata": {},
          "execution_count": 82
        }
      ]
    },
    {
      "cell_type": "markdown",
      "source": [
        "### Question 11:\n",
        "Compare the artists that have the highest frequency of singular_self words with artists that have the higher frequency of inclusive_self words. Consider artists with a high enough number of words, for example 2000 in total.\n",
        "\n",
        "Which artists stand out? Are you familiar with any of them? Which possible explanations can you suggest?\n",
        "\n",
        "In what sense what you have just done is a simple application of a dictionary method?"
      ],
      "metadata": {
        "id": "7EAXGbMvnoOx"
      }
    },
    {
      "cell_type": "code",
      "source": [
        "artists_filtered = artists[artists['total'] >= 2000]\n",
        "# Get top 5 artists by frequency of singular_self and inclusive_self\n",
        "top_singular = artists_filtered.nlargest(10, 'frequency_singular')[['frequency_singular']]\n",
        "top_inclusive = artists_filtered.nlargest(10, 'frequency_inclusive')[['frequency_inclusive']]\n",
        "print(top_singular)\n",
        "print(top_inclusive)\n",
        "common_artists = top_singular.join(top_inclusive, how='inner', lsuffix='_singular', rsuffix='_inclusive')\n",
        "print(\"\\nArtists appearing in both top lists:\")\n",
        "print(common_artists)"
      ],
      "metadata": {
        "id": "9wIVAXguP16E",
        "colab": {
          "base_uri": "https://localhost:8080/"
        },
        "outputId": "cc18bcf4-07b8-445d-b3c2-aebbb9c67e63"
      },
      "execution_count": null,
      "outputs": [
        {
          "output_type": "stream",
          "name": "stdout",
          "text": [
            "                 frequency_singular\n",
            "artist                             \n",
            "Israel Houghton            0.111725\n",
            "Planetshakers              0.104037\n",
            "Evanescence                0.101528\n",
            "Britney Spears             0.099807\n",
            "Freddie King               0.097668\n",
            "Xscape                     0.096639\n",
            "Sam Smith                  0.095873\n",
            "Veruca Salt                0.095141\n",
            "Whitney Houston            0.094815\n",
            "Walk The Moon              0.094807\n",
            "                     frequency_inclusive\n",
            "artist                                  \n",
            "Don Moen                        0.041565\n",
            "Matt Redman                     0.036125\n",
            "High School Musical             0.034530\n",
            "Unearth                         0.033781\n",
            "Lorde                           0.027750\n",
            "Independence Day                0.025481\n",
            "Jose Mari Chan                  0.023782\n",
            "Youth Of Today                  0.023619\n",
            "Yes                             0.022976\n",
            "Manowar                         0.022803\n",
            "\n",
            "Artists appearing in both top lists:\n",
            "Empty DataFrame\n",
            "Columns: [frequency_singular, frequency_inclusive]\n",
            "Index: []\n"
          ]
        }
      ]
    },
    {
      "cell_type": "markdown",
      "source": [
        "The top 5 artists that use singular self are Israel Houghton, Planetshakers, Evanescence, Britney Spears, and Freddie King. The top 5 artists that use inclusive self are Don Moen, Matt Redman, High School Musical, Unearth and Lorde.\n",
        "\n",
        "I am only familiar with High School Musical. Because this is about high school life where friends share their school life while having different love and dreams. This context makes sense when they uses lots of \"let's\", \"our\", \"ours\", \"ourselves\", \"us'\", \"we\".\n",
        "\n",
        "\n",
        "Counter is processing each single word as the key of the dictionary, and the counts of the words being items. I have done the summation of the items in the dictionary, and selected the designated keys for index. The filtering and ordering were also done based on dictionary operations.\n"
      ],
      "metadata": {
        "id": "GTgHYxevJAtf"
      }
    }
  ]
}