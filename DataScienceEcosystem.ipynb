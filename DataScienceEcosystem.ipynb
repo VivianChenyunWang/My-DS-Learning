{
 "cells": [
  {
   "cell_type": "markdown",
   "id": "78c31d15-f657-4e1b-b366-f1789a73737a",
   "metadata": {},
   "source": [
    "# Data Science Tools and Ecosystem"
   ]
  },
  {
   "cell_type": "markdown",
   "id": "f5d5e375-5e95-41b6-aa1e-b92cb4c22963",
   "metadata": {},
   "source": [
    "In this notebook, Data Science Tools and Ecosystem are summarized."
   ]
  },
  {
   "cell_type": "markdown",
   "id": "dde1d5ab-416a-4fb8-be41-9b0193f99719",
   "metadata": {},
   "source": [
    "## Author\n",
    "Vivian Wang"
   ]
  },
  {
   "cell_type": "markdown",
   "id": "46e5fcfa-d75b-4b0e-9aca-1b79f410ecda",
   "metadata": {},
   "source": [
    "**Objectives:**\n",
    "- List popular languages for Data Science\n",
    "- List commonly used libraries by Data Scientists\n",
    "- Make a table of Data Science tools\n",
    "- Showcase some arithmetics in Data Science"
   ]
  },
  {
   "cell_type": "markdown",
   "id": "4e0c7e69-d90c-4a52-b748-bdcf857050cc",
   "metadata": {},
   "source": [
    "Some of the popular languages that Data Scientists use are:"
   ]
  },
  {
   "cell_type": "markdown",
   "id": "7c85d79b-fe01-4ac8-ad4f-c06a4f1b2ce1",
   "metadata": {},
   "source": [
    "1. Python"
   ]
  },
  {
   "cell_type": "markdown",
   "id": "d1a89b0b-a3a8-4db2-8383-3850131211b8",
   "metadata": {},
   "source": [
    "2. R"
   ]
  },
  {
   "cell_type": "markdown",
   "id": "bde01426-3c94-4712-8533-fb3029a2a6dc",
   "metadata": {},
   "source": [
    "3. SQL"
   ]
  },
  {
   "cell_type": "markdown",
   "id": "3f5f7f1c-a5db-4fc7-8a37-4a48293c37eb",
   "metadata": {},
   "source": [
    "Some of the commonly used libraries used by Data Scientists include:"
   ]
  },
  {
   "cell_type": "markdown",
   "id": "804da89a-1d9a-4f10-a69e-5a0dae8cf38b",
   "metadata": {},
   "source": [
    "1. tidyverse"
   ]
  },
  {
   "cell_type": "markdown",
   "id": "ae214ded-a9ad-49b4-97e2-c0b97acf4daa",
   "metadata": {},
   "source": [
    "2. ggplot2"
   ]
  },
  {
   "cell_type": "markdown",
   "id": "aa5600d6-1de4-4a26-a70c-4f1f7ccc9bc7",
   "metadata": {},
   "source": [
    "3. numpy"
   ]
  },
  {
   "cell_type": "markdown",
   "id": "2bb3a9ce-7c50-40b8-b65b-72285d00b8fb",
   "metadata": {},
   "source": [
    "| Data Science Tools        |\n",
    "|---------------------------|\n",
    "| Jupyter Notebook          |\n",
    "| RStudio                   |\n",
    "| VS Code with Python plugin |\n"
   ]
  },
  {
   "cell_type": "markdown",
   "id": "51e5de0d-ad0c-4b71-9b48-415f22c53916",
   "metadata": {},
   "source": [
    "### Below are a few examples of evaluating arithmetic expressions in Python"
   ]
  },
  {
   "cell_type": "code",
   "execution_count": 5,
   "id": "2fce227d-9c01-49a1-b5d5-af7be851d6af",
   "metadata": {},
   "outputs": [],
   "source": [
    "#This a simple arithmetic expression to mutiply then add integers"
   ]
  },
  {
   "cell_type": "code",
   "execution_count": 4,
   "id": "2dbaee86-6c19-485a-9b37-1ea41fdd9b93",
   "metadata": {},
   "outputs": [
    {
     "data": {
      "text/plain": [
       "17"
      ]
     },
     "execution_count": 4,
     "metadata": {},
     "output_type": "execute_result"
    }
   ],
   "source": [
    "(3*4)+5"
   ]
  },
  {
   "cell_type": "code",
   "execution_count": null,
   "id": "6a8f5ba7-4a41-4af8-8cb9-efffa287f1d6",
   "metadata": {},
   "outputs": [],
   "source": [
    "#This will convert 200 minutes to hours by diving by 60"
   ]
  },
  {
   "cell_type": "code",
   "execution_count": 6,
   "id": "c288d751-53f2-43c0-97fc-6a87a8566089",
   "metadata": {},
   "outputs": [
    {
     "data": {
      "text/plain": [
       "3.3333333333333335"
      ]
     },
     "execution_count": 6,
     "metadata": {},
     "output_type": "execute_result"
    }
   ],
   "source": [
    "200/60"
   ]
  }
 ],
 "metadata": {
  "kernelspec": {
   "display_name": "Python 3 (ipykernel)",
   "language": "python",
   "name": "python3"
  },
  "language_info": {
   "codemirror_mode": {
    "name": "ipython",
    "version": 3
   },
   "file_extension": ".py",
   "mimetype": "text/x-python",
   "name": "python",
   "nbconvert_exporter": "python",
   "pygments_lexer": "ipython3",
   "version": "3.10.7"
  }
 },
 "nbformat": 4,
 "nbformat_minor": 5
}
