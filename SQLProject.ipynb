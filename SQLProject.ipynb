{
 "cells": [
  {
   "cell_type": "code",
   "execution_count": 1,
   "id": "e5f652ff-8866-420b-be42-ccac767f8bbe",
   "metadata": {},
   "outputs": [
    {
     "name": "stdout",
     "output_type": "stream",
     "text": [
      "Requirement already satisfied: mysql-connector-python in d:\\lib\\site-packages (9.0.0)\n",
      "Note: you may need to restart the kernel to use updated packages.\n"
     ]
    }
   ],
   "source": [
    "pip install mysql-connector-python"
   ]
  },
  {
   "cell_type": "code",
   "execution_count": 2,
   "id": "066a3c21-6e09-4e7f-a13b-310d28f19393",
   "metadata": {},
   "outputs": [
    {
     "name": "stdout",
     "output_type": "stream",
     "text": [
      "<mysql.connector.connection_cext.CMySQLConnection object at 0x000002408D660130>\n",
      "CONNECTION SUCCESSFUL\n"
     ]
    }
   ],
   "source": [
    "import mysql.connector\n",
    " \n",
    "mydb = mysql.connector.connect(\n",
    "  host=\"localhost\",\n",
    "  user=\"root\",\n",
    "  password=\"Chenyun312!\"\n",
    ")\n",
    " \n",
    "print(mydb)\n",
    " \n",
    "if mydb.is_connected():\n",
    "    print(\"CONNECTION SUCCESSFUL\")"
   ]
  },
  {
   "cell_type": "code",
   "execution_count": 3,
   "id": "d50b8103-875b-4b4a-8e40-1ce8951107f1",
   "metadata": {},
   "outputs": [],
   "source": [
    "#drop a database\n",
    "#mycursor = mydb.cursor()\n",
    "#mycursor.execute(\"DROP DATABASE sqlproject\")"
   ]
  },
  {
   "cell_type": "code",
   "execution_count": 4,
   "id": "78ed24f6-3c03-437a-8e46-6e17b4ced81b",
   "metadata": {},
   "outputs": [],
   "source": [
    "#create a database\n",
    "mycursor = mydb.cursor()\n",
    "\n",
    "mycursor.execute(\"CREATE DATABASE sqlproject\")"
   ]
  },
  {
   "cell_type": "code",
   "execution_count": 5,
   "id": "6b942e95-0eb4-4e43-a724-333337cd7b86",
   "metadata": {},
   "outputs": [
    {
     "name": "stdout",
     "output_type": "stream",
     "text": [
      "('data1050f24',)\n",
      "('information_schema',)\n",
      "('mysql',)\n",
      "('performance_schema',)\n",
      "('sqlproject',)\n",
      "('sqlproject2',)\n",
      "('sys',)\n"
     ]
    }
   ],
   "source": [
    "mycursor = mydb.cursor()\n",
    "mycursor.execute(\"SHOW DATABASES\")\n",
    "\n",
    "for x in mycursor:\n",
    "  print(x)"
   ]
  },
  {
   "cell_type": "code",
   "execution_count": 6,
   "id": "64e2c2ab-259a-4c73-b04e-e240a0a2c4b5",
   "metadata": {},
   "outputs": [],
   "source": [
    "#create physicians table\n",
    "mycursor = mydb.cursor()\n",
    "mycursor.execute(\"CREATE TABLE sqlproject.physicians (SSN VARCHAR(128) PRIMARY KEY, name VARCHAR(255), primary_specialty VARCHAR(128), experience_years INT CHECK(experience_years>=0))\")"
   ]
  },
  {
   "cell_type": "code",
   "execution_count": 7,
   "id": "6fa8c189-8834-454c-a600-45dd9746636e",
   "metadata": {},
   "outputs": [],
   "source": [
    "#create patients table\n",
    "mycursor = mydb.cursor()\n",
    "mycursor.execute(\"CREATE TABLE sqlproject.patients (SSN VARCHAR(128) PRIMARY KEY, name VARCHAR(255), address VARCHAR(255), birth_date DATETIME, physician_id VARCHAR(128), foreign key(physician_id) references physicians(SSN))\")"
   ]
  },
  {
   "cell_type": "code",
   "execution_count": 8,
   "id": "a709babf-56e2-43fa-b6c6-29314295923e",
   "metadata": {},
   "outputs": [],
   "source": [
    "#create pharmacies table\n",
    "mycursor = mydb.cursor()\n",
    "mycursor.execute(\"CREATE TABLE sqlproject.pharmacies (id VARCHAR(128) PRIMARY KEY, name VARCHAR(255), address VARCHAR(255), phone VARCHAR(128))\")"
   ]
  },
  {
   "cell_type": "code",
   "execution_count": 9,
   "id": "40b2665f-148e-45a4-91aa-5b91b12a0fae",
   "metadata": {},
   "outputs": [],
   "source": [
    "#create drugs table\n",
    "mycursor = mydb.cursor()\n",
    "mycursor.execute(\"CREATE TABLE sqlproject.drugs (id VARCHAR(128), name VARCHAR(128) PRIMARY KEY)\")"
   ]
  },
  {
   "cell_type": "code",
   "execution_count": 10,
   "id": "037ca421-bb3c-4089-86d8-811ec2026eea",
   "metadata": {},
   "outputs": [],
   "source": [
    "#create prescriptions table\n",
    "mycursor = mydb.cursor()\n",
    "mycursor.execute(\"CREATE TABLE sqlproject.prescriptions (id VARCHAR(128) PRIMARY KEY, patient_id VARCHAR(128), physician_id VARCHAR(128), drug_name VARCHAR(128), date DATE, quantity INT, foreign key(patient_id) references patients(ssn), foreign key(physician_id) references physicians(ssn), foreign key(drug_name) references drugs(name))\")"
   ]
  },
  {
   "cell_type": "code",
   "execution_count": 11,
   "id": "34da931c-9bce-4ac8-bc78-7e3ad5a19509",
   "metadata": {},
   "outputs": [],
   "source": [
    "#add index\n",
    "mycursor = mydb.cursor()\n",
    "mycursor.execute(\"ALTER TABLE sqlproject.prescriptions ADD INDEX alerting (patient_id, drug_name)\")"
   ]
  },
  {
   "cell_type": "code",
   "execution_count": 12,
   "id": "2b76452a-2e89-430d-85af-5b2befa716ee",
   "metadata": {},
   "outputs": [],
   "source": [
    "#create adverse_reactions table\n",
    "mycursor = mydb.cursor()\n",
    "mycursor.execute(\"CREATE TABLE sqlproject.adverse_reactions (drug_name VARCHAR(128), drug_name_2 VARCHAR(128), primary key(drug_name, drug_name_2), foreign key(drug_name) references drugs(name))\")"
   ]
  },
  {
   "cell_type": "code",
   "execution_count": 13,
   "id": "4848df46-e97c-4e2d-8857-715bb0639628",
   "metadata": {},
   "outputs": [],
   "source": [
    "#create alerts table\n",
    "mycursor = mydb.cursor()\n",
    "mycursor.execute(\"CREATE TABLE sqlproject.alerts (patient_id VARCHAR(128), physician_id VARCHAR(128), alert_date DATE, drug1 VARCHAR(128), drug2 VARCHAR(128), primary key(patient_id, physician_id, alert_date, drug1, drug2), foreign key(patient_id) references patients(ssn), foreign key(physician_id) references physicians(ssn), foreign key(patient_id, drug1) references prescriptions(patient_id, drug_name), foreign key(patient_id, drug2) references prescriptions(patient_id, drug_name), CHECK (drug1<>drug2))\")"
   ]
  },
  {
   "cell_type": "code",
   "execution_count": 14,
   "id": "250e4d06-27e2-45dc-839c-92f98debb6e2",
   "metadata": {},
   "outputs": [],
   "source": [
    "#create pharmacy_fills table\n",
    "mycursor = mydb.cursor()\n",
    "mycursor.execute(\"CREATE TABLE sqlproject.pharmacy_fills (pharmacy_id VARCHAR(128), prescription_id VARCHAR(128), date DATE, cost DECIMAL(8,2), primary key(prescription_id, pharmacy_id), foreign key(prescription_id) references prescriptions(id), foreign key(pharmacy_id) references pharmacies(id))\")"
   ]
  },
  {
   "cell_type": "code",
   "execution_count": 15,
   "id": "343ee312-847d-4aba-a7e0-c13d47515c25",
   "metadata": {},
   "outputs": [],
   "source": [
    "#create companies table\n",
    "mycursor = mydb.cursor()\n",
    "mycursor.execute(\"CREATE TABLE sqlproject.companies (id VARCHAR(128) PRIMARY KEY, name VARCHAR(128), address VARCHAR(255), contact_phone VARCHAR(128), contact_name VARCHAR(128))\")"
   ]
  },
  {
   "cell_type": "code",
   "execution_count": 16,
   "id": "bbae7f7b-cae0-4504-be80-e5b8e2b0fa83",
   "metadata": {},
   "outputs": [],
   "source": [
    "#create contracts table\n",
    "mycursor = mydb.cursor()\n",
    "mycursor.execute(\"CREATE TABLE sqlproject.contracts (Contract_Id VARCHAR(128) PRIMARY KEY, drug VARCHAR(128), dosage INT, pharmacy_id VARCHAR(128), company_id VARCHAR(128), quantity INT, date DATE, price DECIMAL(8,2), foreign key(company_id) references companies(id), foreign key(pharmacy_id) references pharmacies(id), foreign key(drug) references drugs(name))\")"
   ]
  },
  {
   "cell_type": "code",
   "execution_count": 17,
   "id": "d9db3f1c-0a7f-42cc-8527-44289f95949e",
   "metadata": {},
   "outputs": [],
   "source": [
    "#drop patient table\n",
    "#mycursor = mydb.cursor()\n",
    "#mycursor.execute(\"DROP TABLE sqlproject.patients\")"
   ]
  },
  {
   "cell_type": "code",
   "execution_count": 43,
   "id": "99741a49-7757-418b-8480-9351edf6f8f7",
   "metadata": {},
   "outputs": [],
   "source": [
    "#drop physician table\n",
    "#mycursor = mydb.cursor()\n",
    "#mycursor.execute(\"DROP TABLE sqlproject.physicians\")"
   ]
  },
  {
   "cell_type": "code",
   "execution_count": 15,
   "id": "37ce4715-64b8-4736-a76b-b42034662ee2",
   "metadata": {},
   "outputs": [],
   "source": [
    "#drop alert table\n",
    "#mycursor = mydb.cursor()\n",
    "#mycursor.execute(\"DROP TABLE sqlproject.alerts\")"
   ]
  },
  {
   "cell_type": "code",
   "execution_count": 13,
   "id": "d5c9c0f9-7026-4069-bd2d-7ad9bbc012d5",
   "metadata": {},
   "outputs": [],
   "source": [
    "#drop pharmacy_fills table\n",
    "#mycursor = mydb.cursor()\n",
    "#mycursor.execute(\"DROP TABLE sqlproject.pharmacy_fills\")"
   ]
  },
  {
   "cell_type": "code",
   "execution_count": 16,
   "id": "2e9790da-7050-4f85-aba0-98f022f7abeb",
   "metadata": {},
   "outputs": [],
   "source": [
    "#drop prescriptions table\n",
    "#mycursor = mydb.cursor()\n",
    "#mycursor.execute(\"DROP TABLE sqlproject.prescriptions\")"
   ]
  },
  {
   "cell_type": "code",
   "execution_count": 18,
   "id": "012ec4cd-651a-4ea4-a7af-9dd69a37eef6",
   "metadata": {},
   "outputs": [],
   "source": [
    "#connect to a specific database\n",
    "mydb = mysql.connector.connect(\n",
    "  host=\"localhost\",\n",
    "  user=\"root\",\n",
    "  password=\"Chenyun312!\", \n",
    "  database = \"sqlproject\" \n",
    ")"
   ]
  },
  {
   "cell_type": "code",
   "execution_count": 19,
   "id": "d69f5657-a93a-45c2-9d25-692f9d4d2e2c",
   "metadata": {},
   "outputs": [
    {
     "name": "stdout",
     "output_type": "stream",
     "text": [
      "('adverse_reactions',)\n",
      "('alerts',)\n",
      "('companies',)\n",
      "('contracts',)\n",
      "('drugs',)\n",
      "('patients',)\n",
      "('pharmacies',)\n",
      "('pharmacy_fills',)\n",
      "('physicians',)\n",
      "('prescriptions',)\n"
     ]
    }
   ],
   "source": [
    "mycursor = mydb.cursor()\n",
    "mycursor.execute(\"SHOW TABLES\")\n",
    "\n",
    "for x in mycursor:\n",
    "  print(x)"
   ]
  },
  {
   "cell_type": "code",
   "execution_count": 20,
   "id": "45aed6e2-8960-4eb8-9d86-0dfa22849234",
   "metadata": {},
   "outputs": [],
   "source": [
    "import pandas as pd"
   ]
  },
  {
   "cell_type": "code",
   "execution_count": 21,
   "id": "852694c9-6cf6-495b-b81d-a04dba0c9238",
   "metadata": {},
   "outputs": [
    {
     "name": "stdout",
     "output_type": "stream",
     "text": [
      "Requirement already satisfied: fsspec in d:\\lib\\site-packages (2024.10.0)Note: you may need to restart the kernel to use updated packages.\n",
      "\n"
     ]
    }
   ],
   "source": [
    "pip install fsspec"
   ]
  },
  {
   "cell_type": "code",
   "execution_count": 1,
   "id": "a655448c-3f04-40ae-9472-edd726a23a57",
   "metadata": {},
   "outputs": [],
   "source": [
    "#create trigger\n",
    "#should be run before insertion of data and after connecting to a specific database\n",
    "trigger=\"\"\"\n",
    "\n",
    "DROP TRIGGER IF EXISTS alertings;\n",
    "CREATE TRIGGER alertings\n",
    "AFTER INSERT ON prescriptions\n",
    "FOR EACH ROW\n",
    "BEGIN\n",
    "    INSERT INTO alerts(patient_id, physician_id, alert_date, drug1, drug2)\n",
    "    SELECT DISTINCT NEW.patient_id, NEW.physician_id, NEW.date, prev.drug_name, NEW.drug_name\n",
    "    FROM prescriptions prev\n",
    "    JOIN adverse_reactions r ON \n",
    "        (r.drug_name = prev.drug_name AND r.drug_name_2 = NEW.drug_name)\n",
    "        OR (r.drug_name_2 = prev.drug_name AND r.drug_name = NEW.drug_name)\n",
    "    WHERE prev.patient_id = NEW.patient_id;\n",
    "END\n",
    "\n",
    "\"\"\"\n",
    "mycursor.execute(trigger)"
   ]
  },
  {
   "cell_type": "code",
   "execution_count": 22,
   "id": "0881570f-fcc7-4aa9-97a6-af778c86453d",
   "metadata": {},
   "outputs": [],
   "source": [
    "data = pd.read_csv(\"physicians.csv\")"
   ]
  },
  {
   "cell_type": "code",
   "execution_count": 23,
   "id": "7439195f-3a67-4649-8059-9844dc7ec305",
   "metadata": {},
   "outputs": [
    {
     "name": "stdout",
     "output_type": "stream",
     "text": [
      "Record inserted\n",
      "Record inserted\n",
      "Record inserted\n",
      "Record inserted\n",
      "Record inserted\n",
      "Record inserted\n",
      "Record inserted\n",
      "Record inserted\n",
      "Record inserted\n",
      "Record inserted\n",
      "Record inserted\n",
      "Record inserted\n"
     ]
    }
   ],
   "source": [
    "for i,row in data.iterrows():\n",
    "            sql = \"INSERT INTO physicians VALUES (%s,%s,%s,%s)\"\n",
    "            mycursor.execute(sql, tuple(row))\n",
    "            print(\"Record inserted\")\n",
    "            mydb.commit()"
   ]
  },
  {
   "cell_type": "code",
   "execution_count": 24,
   "id": "becaf6de-195a-46c6-bce0-f7c98478e15d",
   "metadata": {},
   "outputs": [
    {
     "data": {
      "text/html": [
       "<div>\n",
       "<style scoped>\n",
       "    .dataframe tbody tr th:only-of-type {\n",
       "        vertical-align: middle;\n",
       "    }\n",
       "\n",
       "    .dataframe tbody tr th {\n",
       "        vertical-align: top;\n",
       "    }\n",
       "\n",
       "    .dataframe thead th {\n",
       "        text-align: right;\n",
       "    }\n",
       "</style>\n",
       "<table border=\"1\" class=\"dataframe\">\n",
       "  <thead>\n",
       "    <tr style=\"text-align: right;\">\n",
       "      <th></th>\n",
       "      <th>ssn</th>\n",
       "      <th>name</th>\n",
       "      <th>address</th>\n",
       "      <th>birthdate</th>\n",
       "      <th>physician_id</th>\n",
       "    </tr>\n",
       "  </thead>\n",
       "  <tbody>\n",
       "    <tr>\n",
       "      <th>0</th>\n",
       "      <td>478-34-0781</td>\n",
       "      <td>Florance Saiz</td>\n",
       "      <td>7 Fair Oaks Place</td>\n",
       "      <td>1988-11-03 23:25:38</td>\n",
       "      <td>614-57-6885</td>\n",
       "    </tr>\n",
       "    <tr>\n",
       "      <th>1</th>\n",
       "      <td>885-94-4721</td>\n",
       "      <td>Merry Di Pietro</td>\n",
       "      <td>1 Old Shore Court</td>\n",
       "      <td>1991-02-07 22:00:41</td>\n",
       "      <td>702-16-8749</td>\n",
       "    </tr>\n",
       "    <tr>\n",
       "      <th>2</th>\n",
       "      <td>777-39-3296</td>\n",
       "      <td>Myron Cottem</td>\n",
       "      <td>75875 Fulton Crossing</td>\n",
       "      <td>1986-02-20 04:43:29</td>\n",
       "      <td>718-27-0905</td>\n",
       "    </tr>\n",
       "    <tr>\n",
       "      <th>3</th>\n",
       "      <td>227-08-7452</td>\n",
       "      <td>Bearnard Remer</td>\n",
       "      <td>18669 Heffernan Point</td>\n",
       "      <td>2008-01-09 05:34:30</td>\n",
       "      <td>230-12-3219</td>\n",
       "    </tr>\n",
       "    <tr>\n",
       "      <th>4</th>\n",
       "      <td>805-15-2755</td>\n",
       "      <td>Roxana Worster</td>\n",
       "      <td>54 Hudson Junction</td>\n",
       "      <td>1982-11-12 18:11:55</td>\n",
       "      <td>163-50-5535</td>\n",
       "    </tr>\n",
       "  </tbody>\n",
       "</table>\n",
       "</div>"
      ],
      "text/plain": [
       "           ssn             name                address           birthdate  \\\n",
       "0  478-34-0781    Florance Saiz      7 Fair Oaks Place 1988-11-03 23:25:38   \n",
       "1  885-94-4721  Merry Di Pietro      1 Old Shore Court 1991-02-07 22:00:41   \n",
       "2  777-39-3296     Myron Cottem  75875 Fulton Crossing 1986-02-20 04:43:29   \n",
       "3  227-08-7452   Bearnard Remer  18669 Heffernan Point 2008-01-09 05:34:30   \n",
       "4  805-15-2755   Roxana Worster     54 Hudson Junction 1982-11-12 18:11:55   \n",
       "\n",
       "  physician_id  \n",
       "0  614-57-6885  \n",
       "1  702-16-8749  \n",
       "2  718-27-0905  \n",
       "3  230-12-3219  \n",
       "4  163-50-5535  "
      ]
     },
     "execution_count": 24,
     "metadata": {},
     "output_type": "execute_result"
    }
   ],
   "source": [
    "data = pd.read_csv(\"patients.csv\")\n",
    "data['birthdate'] = pd.to_datetime(data['birthdate'].str.replace('T', ' ').str.replace('Z', ''))\n",
    "data.head()"
   ]
  },
  {
   "cell_type": "code",
   "execution_count": 25,
   "id": "2ab97de4-c1e7-40e7-bdba-5abbf343f12d",
   "metadata": {},
   "outputs": [
    {
     "name": "stdout",
     "output_type": "stream",
     "text": [
      "Record inserted\n",
      "Record inserted\n",
      "Record inserted\n",
      "Record inserted\n",
      "Record inserted\n",
      "Record inserted\n",
      "Record inserted\n",
      "Record inserted\n",
      "Record inserted\n",
      "Record inserted\n",
      "Record inserted\n",
      "Record inserted\n"
     ]
    }
   ],
   "source": [
    "for i,row in data.iterrows():\n",
    "            sql = \"INSERT INTO patients VALUES (%s,%s,%s,%s,%s)\"\n",
    "            mycursor.execute(sql, tuple(row))\n",
    "            print(\"Record inserted\")\n",
    "            mydb.commit()"
   ]
  },
  {
   "cell_type": "code",
   "execution_count": 26,
   "id": "4f4edc88-3934-48e9-96d9-2ea212024ac0",
   "metadata": {},
   "outputs": [],
   "source": [
    "data = pd.read_csv(\"pharmacies.csv\")"
   ]
  },
  {
   "cell_type": "code",
   "execution_count": 27,
   "id": "7fc88bd7-7b7b-4162-9a4b-18c172101e18",
   "metadata": {},
   "outputs": [
    {
     "name": "stdout",
     "output_type": "stream",
     "text": [
      "Record inserted\n",
      "Record inserted\n",
      "Record inserted\n",
      "Record inserted\n",
      "Record inserted\n",
      "Record inserted\n",
      "Record inserted\n",
      "Record inserted\n",
      "Record inserted\n",
      "Record inserted\n",
      "Record inserted\n",
      "Record inserted\n",
      "Record inserted\n",
      "Record inserted\n",
      "Record inserted\n"
     ]
    }
   ],
   "source": [
    "for i,row in data.iterrows():\n",
    "            sql = \"INSERT INTO pharmacies VALUES (%s,%s,%s,%s)\"\n",
    "            mycursor.execute(sql, tuple(row))\n",
    "            print(\"Record inserted\")\n",
    "            mydb.commit()"
   ]
  },
  {
   "cell_type": "code",
   "execution_count": 28,
   "id": "3d076848-9ce9-4b0a-92fc-23f6ced19159",
   "metadata": {},
   "outputs": [],
   "source": [
    "data = pd.read_csv(\"drugs.csv\")"
   ]
  },
  {
   "cell_type": "code",
   "execution_count": 29,
   "id": "1c0634ed-8fdc-4452-a951-48c188153213",
   "metadata": {},
   "outputs": [
    {
     "name": "stdout",
     "output_type": "stream",
     "text": [
      "Record inserted\n",
      "Record inserted\n",
      "Record inserted\n",
      "Record inserted\n",
      "Record inserted\n",
      "Record inserted\n",
      "Record inserted\n",
      "Record inserted\n",
      "Record inserted\n",
      "Record inserted\n"
     ]
    }
   ],
   "source": [
    "for i,row in data.iterrows():\n",
    "            sql = \"INSERT INTO drugs VALUES (%s,%s)\"\n",
    "            mycursor.execute(sql, tuple(row))\n",
    "            print(\"Record inserted\")\n",
    "            mydb.commit()"
   ]
  },
  {
   "cell_type": "code",
   "execution_count": 30,
   "id": "55786283-398a-48fb-8692-c10c90900753",
   "metadata": {},
   "outputs": [],
   "source": [
    "data = pd.read_csv(\"adverse_reactions.csv\")"
   ]
  },
  {
   "cell_type": "code",
   "execution_count": 31,
   "id": "6c087ab9-e499-4edd-8a66-08b475c5b5c5",
   "metadata": {},
   "outputs": [
    {
     "name": "stdout",
     "output_type": "stream",
     "text": [
      "Record inserted\n",
      "Record inserted\n",
      "Record inserted\n",
      "Record inserted\n",
      "Record inserted\n",
      "Record inserted\n",
      "Record inserted\n",
      "Record inserted\n",
      "Record inserted\n"
     ]
    }
   ],
   "source": [
    "for i,row in data.iterrows():\n",
    "            sql = \"REPLACE INTO adverse_reactions VALUES (%s,%s)\"\n",
    "            mycursor.execute(sql, tuple(row))\n",
    "            print(\"Record inserted\")\n",
    "            mydb.commit()"
   ]
  },
  {
   "cell_type": "code",
   "execution_count": 32,
   "id": "779ed5a4-caec-4ee1-9732-536f219b2a70",
   "metadata": {},
   "outputs": [
    {
     "data": {
      "text/html": [
       "<div>\n",
       "<style scoped>\n",
       "    .dataframe tbody tr th:only-of-type {\n",
       "        vertical-align: middle;\n",
       "    }\n",
       "\n",
       "    .dataframe tbody tr th {\n",
       "        vertical-align: top;\n",
       "    }\n",
       "\n",
       "    .dataframe thead th {\n",
       "        text-align: right;\n",
       "    }\n",
       "</style>\n",
       "<table border=\"1\" class=\"dataframe\">\n",
       "  <thead>\n",
       "    <tr style=\"text-align: right;\">\n",
       "      <th></th>\n",
       "      <th>id</th>\n",
       "      <th>patient_id</th>\n",
       "      <th>physician_id</th>\n",
       "      <th>drug_name</th>\n",
       "      <th>date</th>\n",
       "      <th>quantity</th>\n",
       "    </tr>\n",
       "  </thead>\n",
       "  <tbody>\n",
       "    <tr>\n",
       "      <th>0</th>\n",
       "      <td>1</td>\n",
       "      <td>478-34-0781</td>\n",
       "      <td>614-57-6885</td>\n",
       "      <td>Avafoxin</td>\n",
       "      <td>2023-03-11</td>\n",
       "      <td>90</td>\n",
       "    </tr>\n",
       "    <tr>\n",
       "      <th>1</th>\n",
       "      <td>2</td>\n",
       "      <td>758-08-7274</td>\n",
       "      <td>118-66-5958</td>\n",
       "      <td>Cleotrana</td>\n",
       "      <td>2023-03-12</td>\n",
       "      <td>10</td>\n",
       "    </tr>\n",
       "    <tr>\n",
       "      <th>2</th>\n",
       "      <td>3</td>\n",
       "      <td>758-08-7274</td>\n",
       "      <td>118-66-5958</td>\n",
       "      <td>Primalovir</td>\n",
       "      <td>2023-04-11</td>\n",
       "      <td>20</td>\n",
       "    </tr>\n",
       "    <tr>\n",
       "      <th>3</th>\n",
       "      <td>4</td>\n",
       "      <td>758-08-7274</td>\n",
       "      <td>118-66-5958</td>\n",
       "      <td>Glucozepam Amcipentin</td>\n",
       "      <td>2023-05-13</td>\n",
       "      <td>12</td>\n",
       "    </tr>\n",
       "    <tr>\n",
       "      <th>4</th>\n",
       "      <td>5</td>\n",
       "      <td>303-13-5928</td>\n",
       "      <td>571-13-9020</td>\n",
       "      <td>Olanzanafine</td>\n",
       "      <td>2023-05-24</td>\n",
       "      <td>25</td>\n",
       "    </tr>\n",
       "  </tbody>\n",
       "</table>\n",
       "</div>"
      ],
      "text/plain": [
       "   id   patient_id physician_id              drug_name       date  quantity\n",
       "0   1  478-34-0781  614-57-6885               Avafoxin 2023-03-11        90\n",
       "1   2  758-08-7274  118-66-5958              Cleotrana 2023-03-12        10\n",
       "2   3  758-08-7274  118-66-5958             Primalovir 2023-04-11        20\n",
       "3   4  758-08-7274  118-66-5958  Glucozepam Amcipentin 2023-05-13        12\n",
       "4   5  303-13-5928  571-13-9020           Olanzanafine 2023-05-24        25"
      ]
     },
     "execution_count": 32,
     "metadata": {},
     "output_type": "execute_result"
    }
   ],
   "source": [
    "data = pd.read_csv(\"prescriptions.csv\")\n",
    "data['date'] = pd.to_datetime(data['date'])\n",
    "data.head()"
   ]
  },
  {
   "cell_type": "code",
   "execution_count": 33,
   "id": "14554a2f-7662-492a-b812-8d3733ca421b",
   "metadata": {},
   "outputs": [
    {
     "name": "stdout",
     "output_type": "stream",
     "text": [
      "(1, '478-34-0781', '614-57-6885', 'Avafoxin', Timestamp('2023-03-11 00:00:00'), 90) 6\n",
      "(2, '758-08-7274', '118-66-5958', 'Cleotrana', Timestamp('2023-03-12 00:00:00'), 10) 6\n",
      "(3, '758-08-7274', '118-66-5958', 'Primalovir', Timestamp('2023-04-11 00:00:00'), 20) 6\n",
      "(4, '758-08-7274', '118-66-5958', 'Glucozepam Amcipentin', Timestamp('2023-05-13 00:00:00'), 12) 6\n",
      "(5, '303-13-5928', '571-13-9020', 'Olanzanafine', Timestamp('2023-05-24 00:00:00'), 25) 6\n",
      "(6, '303-13-5928', '571-13-9020', 'Primalovir', Timestamp('2023-05-24 00:00:00'), 16) 6\n",
      "(7, '303-13-5928', '571-13-9020', 'Abnazole Toleluble', Timestamp('2023-05-24 00:00:00'), 5) 6\n",
      "(8, '478-34-0781', '614-57-6885', 'Avafoxin', Timestamp('2023-06-14 00:00:00'), 60) 6\n",
      "(9, '303-13-5928', '571-13-9020', 'Glucozepam Amcipentin', Timestamp('2023-06-22 00:00:00'), 3) 6\n",
      "(10, '501-47-2038', '156-28-1945', 'Cleotrana', Timestamp('2023-07-18 00:00:00'), 20) 6\n",
      "(11, '777-39-3296', '718-27-0905', 'Dantopex Quixilinum', Timestamp('2023-08-02 00:00:00'), 1) 6\n",
      "(12, '501-47-2038', '156-28-1945', 'Cleotrana', Timestamp('2023-08-21 00:00:00'), 10) 6\n",
      "(13, '478-34-0781', '614-57-6885', 'Avafoxin', Timestamp('2023-09-17 00:00:00'), 30) 6\n",
      "(14, '478-34-0781', '614-57-6885', 'Quixiposide', Timestamp('2023-09-17 00:00:00'), 2) 6\n",
      "(15, '501-47-2038', '156-28-1945', 'Avafoxin', Timestamp('2023-09-22 00:00:00'), 15) 6\n",
      "(16, '501-47-2038', '156-28-1945', 'Kanulin', Timestamp('2023-09-22 00:00:00'), 8) 6\n"
     ]
    }
   ],
   "source": [
    "for i, row in data.iterrows():\n",
    "    print(tuple(row), len(row))  # Check row length"
   ]
  },
  {
   "cell_type": "code",
   "execution_count": 34,
   "id": "51baa699-4471-4151-80a5-277c38e99563",
   "metadata": {},
   "outputs": [
    {
     "name": "stdout",
     "output_type": "stream",
     "text": [
      "Record inserted\n",
      "Record inserted\n",
      "Record inserted\n",
      "Record inserted\n",
      "Record inserted\n",
      "Record inserted\n",
      "Record inserted\n",
      "Record inserted\n",
      "Record inserted\n",
      "Record inserted\n",
      "Record inserted\n",
      "Record inserted\n",
      "Record inserted\n",
      "Record inserted\n",
      "Record inserted\n",
      "Record inserted\n"
     ]
    }
   ],
   "source": [
    "for i,row in data.iterrows():\n",
    "            sql = \"REPLACE INTO sqlproject.prescriptions VALUES (%s,%s,%s,%s,%s,%s)\"\n",
    "            mycursor.execute(sql, tuple(row))\n",
    "            print(\"Record inserted\")\n",
    "            mydb.commit()"
   ]
  },
  {
   "cell_type": "code",
   "execution_count": 125,
   "id": "894121f1-b7be-417b-8b29-541c37e5faa3",
   "metadata": {},
   "outputs": [],
   "source": [
    "#data = pd.read_csv(\"SQLproject/alerts.csv\")"
   ]
  },
  {
   "cell_type": "code",
   "execution_count": null,
   "id": "cfde9c1d-f610-4216-adf0-922af9853858",
   "metadata": {},
   "outputs": [],
   "source": [
    "#for i,row in data.iterrows():\n",
    "#            sql = \"INSERT INTO alerts VALUES (%s,%s,%s,%s,%s)\"\n",
    "#            mycursor.execute(sql, tuple(row))\n",
    "#            print(\"Record inserted\")\n",
    "#            mydb.commit()"
   ]
  },
  {
   "cell_type": "code",
   "execution_count": 35,
   "id": "f2f385f0-e8fc-41d9-8194-6f1d87486be1",
   "metadata": {},
   "outputs": [
    {
     "data": {
      "text/html": [
       "<div>\n",
       "<style scoped>\n",
       "    .dataframe tbody tr th:only-of-type {\n",
       "        vertical-align: middle;\n",
       "    }\n",
       "\n",
       "    .dataframe tbody tr th {\n",
       "        vertical-align: top;\n",
       "    }\n",
       "\n",
       "    .dataframe thead th {\n",
       "        text-align: right;\n",
       "    }\n",
       "</style>\n",
       "<table border=\"1\" class=\"dataframe\">\n",
       "  <thead>\n",
       "    <tr style=\"text-align: right;\">\n",
       "      <th></th>\n",
       "      <th>pharmacy_id</th>\n",
       "      <th>prescription_id</th>\n",
       "      <th>date</th>\n",
       "      <th>cost</th>\n",
       "    </tr>\n",
       "  </thead>\n",
       "  <tbody>\n",
       "    <tr>\n",
       "      <th>0</th>\n",
       "      <td>1</td>\n",
       "      <td>3</td>\n",
       "      <td>2023-03-15</td>\n",
       "      <td>60.53</td>\n",
       "    </tr>\n",
       "    <tr>\n",
       "      <th>1</th>\n",
       "      <td>3</td>\n",
       "      <td>4</td>\n",
       "      <td>2023-05-16</td>\n",
       "      <td>41.50</td>\n",
       "    </tr>\n",
       "    <tr>\n",
       "      <th>2</th>\n",
       "      <td>1</td>\n",
       "      <td>2</td>\n",
       "      <td>2023-03-12</td>\n",
       "      <td>18.00</td>\n",
       "    </tr>\n",
       "    <tr>\n",
       "      <th>3</th>\n",
       "      <td>8</td>\n",
       "      <td>1</td>\n",
       "      <td>2023-03-12</td>\n",
       "      <td>46.53</td>\n",
       "    </tr>\n",
       "    <tr>\n",
       "      <th>4</th>\n",
       "      <td>10</td>\n",
       "      <td>5</td>\n",
       "      <td>2023-05-26</td>\n",
       "      <td>47.50</td>\n",
       "    </tr>\n",
       "  </tbody>\n",
       "</table>\n",
       "</div>"
      ],
      "text/plain": [
       "   pharmacy_id  prescription_id       date   cost\n",
       "0            1                3 2023-03-15  60.53\n",
       "1            3                4 2023-05-16  41.50\n",
       "2            1                2 2023-03-12  18.00\n",
       "3            8                1 2023-03-12  46.53\n",
       "4           10                5 2023-05-26  47.50"
      ]
     },
     "execution_count": 35,
     "metadata": {},
     "output_type": "execute_result"
    }
   ],
   "source": [
    "data = pd.read_csv(\"pharmacy_fills.csv\")\n",
    "data['date'] = pd.to_datetime(data['date'])\n",
    "data.head()"
   ]
  },
  {
   "cell_type": "code",
   "execution_count": 36,
   "id": "4a7d38e2-9f9a-4a16-9f94-fd8e245b2d58",
   "metadata": {},
   "outputs": [
    {
     "name": "stdout",
     "output_type": "stream",
     "text": [
      "Record inserted\n",
      "Record inserted\n",
      "Record inserted\n",
      "Record inserted\n",
      "Record inserted\n",
      "Record inserted\n",
      "Record inserted\n",
      "Record inserted\n",
      "Record inserted\n",
      "Record inserted\n",
      "Record inserted\n",
      "Record inserted\n",
      "Record inserted\n",
      "Record inserted\n",
      "Record inserted\n",
      "Record inserted\n"
     ]
    }
   ],
   "source": [
    "for i,row in data.iterrows():\n",
    "            sql = \"INSERT INTO pharmacy_fills VALUES (%s,%s,%s,%s)\"\n",
    "            mycursor.execute(sql, tuple(row))\n",
    "            print(\"Record inserted\")\n",
    "            mydb.commit()"
   ]
  },
  {
   "cell_type": "code",
   "execution_count": 37,
   "id": "8e1b6d11-c4c9-4942-bd75-57616b697d12",
   "metadata": {},
   "outputs": [],
   "source": [
    "data = pd.read_csv(\"companies.csv\")"
   ]
  },
  {
   "cell_type": "code",
   "execution_count": 38,
   "id": "35cb1fd9-49c4-49c4-95f6-7fa99d31613e",
   "metadata": {},
   "outputs": [
    {
     "name": "stdout",
     "output_type": "stream",
     "text": [
      "Record inserted\n",
      "Record inserted\n",
      "Record inserted\n",
      "Record inserted\n",
      "Record inserted\n",
      "Record inserted\n",
      "Record inserted\n",
      "Record inserted\n",
      "Record inserted\n",
      "Record inserted\n"
     ]
    }
   ],
   "source": [
    "for i,row in data.iterrows():\n",
    "            sql = \"INSERT INTO companies VALUES (%s,%s,%s,%s,%s)\"\n",
    "            mycursor.execute(sql, tuple(row))\n",
    "            print(\"Record inserted\")\n",
    "            mydb.commit()"
   ]
  },
  {
   "cell_type": "code",
   "execution_count": 39,
   "id": "021d127b-5744-4332-89ff-d87991054630",
   "metadata": {},
   "outputs": [
    {
     "data": {
      "text/html": [
       "<div>\n",
       "<style scoped>\n",
       "    .dataframe tbody tr th:only-of-type {\n",
       "        vertical-align: middle;\n",
       "    }\n",
       "\n",
       "    .dataframe tbody tr th {\n",
       "        vertical-align: top;\n",
       "    }\n",
       "\n",
       "    .dataframe thead th {\n",
       "        text-align: right;\n",
       "    }\n",
       "</style>\n",
       "<table border=\"1\" class=\"dataframe\">\n",
       "  <thead>\n",
       "    <tr style=\"text-align: right;\">\n",
       "      <th></th>\n",
       "      <th>Contract_Id</th>\n",
       "      <th>drug</th>\n",
       "      <th>dosage</th>\n",
       "      <th>pharmacy_id</th>\n",
       "      <th>pharm_company_id</th>\n",
       "      <th>quantity</th>\n",
       "      <th>date</th>\n",
       "      <th>price</th>\n",
       "    </tr>\n",
       "  </thead>\n",
       "  <tbody>\n",
       "    <tr>\n",
       "      <th>0</th>\n",
       "      <td>1</td>\n",
       "      <td>Cleotrana</td>\n",
       "      <td>50</td>\n",
       "      <td>5</td>\n",
       "      <td>10</td>\n",
       "      <td>40</td>\n",
       "      <td>2023-10-03</td>\n",
       "      <td>100.0</td>\n",
       "    </tr>\n",
       "    <tr>\n",
       "      <th>1</th>\n",
       "      <td>2</td>\n",
       "      <td>Primalovir</td>\n",
       "      <td>500</td>\n",
       "      <td>5</td>\n",
       "      <td>10</td>\n",
       "      <td>20</td>\n",
       "      <td>2023-09-26</td>\n",
       "      <td>40.5</td>\n",
       "    </tr>\n",
       "    <tr>\n",
       "      <th>2</th>\n",
       "      <td>3</td>\n",
       "      <td>Kanulin</td>\n",
       "      <td>1000</td>\n",
       "      <td>4</td>\n",
       "      <td>9</td>\n",
       "      <td>20</td>\n",
       "      <td>2023-09-20</td>\n",
       "      <td>10.5</td>\n",
       "    </tr>\n",
       "    <tr>\n",
       "      <th>3</th>\n",
       "      <td>4</td>\n",
       "      <td>Olanzanafine</td>\n",
       "      <td>50</td>\n",
       "      <td>6</td>\n",
       "      <td>3</td>\n",
       "      <td>80</td>\n",
       "      <td>2023-09-24</td>\n",
       "      <td>150.0</td>\n",
       "    </tr>\n",
       "    <tr>\n",
       "      <th>4</th>\n",
       "      <td>5</td>\n",
       "      <td>Avafoxin</td>\n",
       "      <td>5</td>\n",
       "      <td>15</td>\n",
       "      <td>5</td>\n",
       "      <td>30</td>\n",
       "      <td>2023-09-29</td>\n",
       "      <td>18.0</td>\n",
       "    </tr>\n",
       "  </tbody>\n",
       "</table>\n",
       "</div>"
      ],
      "text/plain": [
       "   Contract_Id          drug  dosage  pharmacy_id  pharm_company_id  quantity  \\\n",
       "0            1     Cleotrana      50            5                10        40   \n",
       "1            2    Primalovir     500            5                10        20   \n",
       "2            3       Kanulin    1000            4                 9        20   \n",
       "3            4  Olanzanafine      50            6                 3        80   \n",
       "4            5      Avafoxin       5           15                 5        30   \n",
       "\n",
       "        date  price  \n",
       "0 2023-10-03  100.0  \n",
       "1 2023-09-26   40.5  \n",
       "2 2023-09-20   10.5  \n",
       "3 2023-09-24  150.0  \n",
       "4 2023-09-29   18.0  "
      ]
     },
     "execution_count": 39,
     "metadata": {},
     "output_type": "execute_result"
    }
   ],
   "source": [
    "data = pd.read_csv(\"contracts.csv\")\n",
    "data['date'] = pd.to_datetime(data['date'])\n",
    "data.head()"
   ]
  },
  {
   "cell_type": "code",
   "execution_count": 40,
   "id": "e6698b7e-c0eb-4181-a6d4-7bbc625bb259",
   "metadata": {},
   "outputs": [
    {
     "name": "stdout",
     "output_type": "stream",
     "text": [
      "Record inserted\n",
      "Record inserted\n",
      "Record inserted\n",
      "Record inserted\n",
      "Record inserted\n",
      "Record inserted\n",
      "Record inserted\n",
      "Record inserted\n",
      "Record inserted\n",
      "Record inserted\n",
      "Record inserted\n",
      "Record inserted\n",
      "Record inserted\n",
      "Record inserted\n",
      "Record inserted\n",
      "Record inserted\n"
     ]
    }
   ],
   "source": [
    "for i,row in data.iterrows():\n",
    "            sql = \"INSERT INTO contracts VALUES (%s,%s,%s,%s,%s,%s,%s,%s)\"\n",
    "            mycursor.execute(sql, tuple(row))\n",
    "            print(\"Record inserted\")\n",
    "            mydb.commit()"
   ]
  },
  {
   "cell_type": "code",
   "execution_count": null,
   "id": "b4924443-7ba9-43a2-8008-2f0c63d82064",
   "metadata": {},
   "outputs": [],
   "source": [
    "#create procedure\n",
    "procedure=\"\"\"\n",
    "\n",
    "CREATE PROCEDURE GetPhysicianDetails(IN physician_ssn VARCHAR(128), \n",
    "                                    OUT physician_specialty VARCHAR(128),\n",
    "                                    OUT experience_years INT)\n",
    "BEGIN\n",
    "    SELECT primary_specialty, experience_years INTO physician_specialty, experience_years\n",
    "    FROM physicians\n",
    "    WHERE physicians.SSN = physician_ssn;\n",
    "END\n",
    "\n",
    "\"\"\"\n",
    "mycursor.execute(procedure)"
   ]
  }
 ],
 "metadata": {
  "kernelspec": {
   "display_name": "Python 3 (ipykernel)",
   "language": "python",
   "name": "python3"
  },
  "language_info": {
   "codemirror_mode": {
    "name": "ipython",
    "version": 3
   },
   "file_extension": ".py",
   "mimetype": "text/x-python",
   "name": "python",
   "nbconvert_exporter": "python",
   "pygments_lexer": "ipython3",
   "version": "3.10.7"
  }
 },
 "nbformat": 4,
 "nbformat_minor": 5
}
